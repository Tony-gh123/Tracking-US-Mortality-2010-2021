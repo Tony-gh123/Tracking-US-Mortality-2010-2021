{
 "cells": [
  {
   "cell_type": "code",
   "execution_count": 1,
   "id": "8d94909a",
   "metadata": {},
   "outputs": [
    {
     "name": "stdout",
     "output_type": "stream",
     "text": [
      " * sqlite:///data/gbd.sqlite\n",
      "Done.\n"
     ]
    },
    {
     "data": {
      "text/html": [
       "<table>\n",
       "    <thead>\n",
       "        <tr>\n",
       "            <th>name</th>\n",
       "        </tr>\n",
       "    </thead>\n",
       "    <tbody>\n",
       "        <tr>\n",
       "            <td>morality_rates_both_sexes</td>\n",
       "        </tr>\n",
       "        <tr>\n",
       "            <td>morality_rates_male</td>\n",
       "        </tr>\n",
       "        <tr>\n",
       "            <td>morality_rates_female</td>\n",
       "        </tr>\n",
       "        <tr>\n",
       "            <td>LE_Decomp_both_sexes</td>\n",
       "        </tr>\n",
       "        <tr>\n",
       "            <td>YLL_location_cause_both_sexes</td>\n",
       "        </tr>\n",
       "        <tr>\n",
       "            <td>death_cv_under5_1990</td>\n",
       "        </tr>\n",
       "        <tr>\n",
       "            <td>death_cv_1990</td>\n",
       "        </tr>\n",
       "        <tr>\n",
       "            <td>death_cv_under5_2021</td>\n",
       "        </tr>\n",
       "        <tr>\n",
       "            <td>death_cv_2021</td>\n",
       "        </tr>\n",
       "        <tr>\n",
       "            <td>table_index</td>\n",
       "        </tr>\n",
       "    </tbody>\n",
       "</table>"
      ],
      "text/plain": [
       "[('morality_rates_both_sexes',),\n",
       " ('morality_rates_male',),\n",
       " ('morality_rates_female',),\n",
       " ('LE_Decomp_both_sexes',),\n",
       " ('YLL_location_cause_both_sexes',),\n",
       " ('death_cv_under5_1990',),\n",
       " ('death_cv_1990',),\n",
       " ('death_cv_under5_2021',),\n",
       " ('death_cv_2021',),\n",
       " ('table_index',)]"
      ]
     },
     "execution_count": 1,
     "metadata": {},
     "output_type": "execute_result"
    }
   ],
   "source": [
    "import pandas as pd\n",
    "import numpy as np\n",
    "import matplotlib.pyplot as plt\n",
    "from matplotlib.gridspec import GridSpec\n",
    "import seaborn as sns\n",
    "import dataframe_image as dfi\n",
    "\n",
    "# pip install tabulate\n",
    "# Run pip install ipython-sql\n",
    "%load_ext sql\n",
    "\n",
    "%sql sqlite:///data/gbd.sqlite\n",
    "\n",
    "# Run the next line if error\n",
    "%config SqlMagic.style = '_DEPRECATED_DEFAULT' \n",
    "\n",
    "%sql SELECT name from sqlite_master where type='table';"
   ]
  },
  {
   "cell_type": "code",
   "execution_count": 3,
   "id": "cf90358d",
   "metadata": {},
   "outputs": [
    {
     "name": "stdout",
     "output_type": "stream",
     "text": [
      " * sqlite:///database/gbd.sqlite\n",
      "(sqlite3.OperationalError) no such table: IHME_GBD_2021_MORTALITY_1990_2021_TABLE_INDEX_Y2024M04D03\n",
      "[SQL: ALTER TABLE IHME_GBD_2021_MORTALITY_1990_2021_TABLE_INDEX_Y2024M04D03 RENAME TO table_index;]\n",
      "(Background on this error at: https://sqlalche.me/e/20/e3q8)\n"
     ]
    }
   ],
   "source": [
    "%sql ALTER TABLE IHME_GBD_2021_MORTALITY_1990_2021_TABLE_INDEX_Y2024M04D03 RENAME TO table_index;"
   ]
  },
  {
   "cell_type": "code",
   "execution_count": 4,
   "id": "9c7c293f",
   "metadata": {},
   "outputs": [
    {
     "name": "stdout",
     "output_type": "stream",
     "text": [
      " * sqlite:///database/gbd.sqlite\n",
      "Done.\n"
     ]
    },
    {
     "data": {
      "text/html": [
       "<table>\n",
       "    <thead>\n",
       "        <tr>\n",
       "            <th>count(*)</th>\n",
       "        </tr>\n",
       "    </thead>\n",
       "    <tbody>\n",
       "        <tr>\n",
       "            <td>8</td>\n",
       "        </tr>\n",
       "    </tbody>\n",
       "</table>"
      ],
      "text/plain": [
       "[(8,)]"
      ]
     },
     "execution_count": 4,
     "metadata": {},
     "output_type": "execute_result"
    }
   ],
   "source": [
    "%sql select count(*) from table_index;"
   ]
  },
  {
   "cell_type": "code",
   "execution_count": 5,
   "id": "ffb41d84",
   "metadata": {},
   "outputs": [
    {
     "name": "stdout",
     "output_type": "stream",
     "text": [
      " * sqlite:///database/gbd.sqlite\n",
      "Done.\n"
     ]
    },
    {
     "data": {
      "text/html": [
       "<table>\n",
       "    <thead>\n",
       "        <tr>\n",
       "            <th>SR Table 1. Age-Standardised Mortality Rates per 100,000 and All-Age Deaths by location and cause (Both Sex)</th>\n",
       "            <th>IHME_GBD_2021_MORTALITY_1990_2021_SR_TABLE_1_Y2023M11D04.XLSX</th>\n",
       "        </tr>\n",
       "    </thead>\n",
       "    <tbody>\n",
       "        <tr>\n",
       "            <td>SR Table 2. Age-Standardised Mortality Rates per 100,000 and All-Age Deaths by location and cause (Males)</td>\n",
       "            <td>IHME_GBD_2021_MORTALITY_1990_2021_SR_TABLE_2_Y2023M11D04.XLSX</td>\n",
       "        </tr>\n",
       "        <tr>\n",
       "            <td>SR Table 3. Age-Standardised Mortality Rates per 100,000 and All-Age Deaths by location and cause (Females)</td>\n",
       "            <td>IHME_GBD_2021_MORTALITY_1990_2021_SR_TABLE_3_Y2023M11D04.XLSX</td>\n",
       "        </tr>\n",
       "        <tr>\n",
       "            <td>SR Table 4: LE Decomp, for 22 causes, both sex, all ages</td>\n",
       "            <td>IHME_GBD_2021_MORTALITY_1990_2021_SR_TABLE_4_Y2023M11D04.XLSX</td>\n",
       "        </tr>\n",
       "        <tr>\n",
       "            <td>SR Table 5. Age-Standardised Rate of YLLs per 100000 and All-Age YLLs by location and cause (Both-sex)</td>\n",
       "            <td>IHME_GBD_2021_MORTALITY_1990_2021_SR_TABLE_5_Y2023M11D04.XLSX</td>\n",
       "        </tr>\n",
       "        <tr>\n",
       "            <td>SR Table 6: Death localization table &amp; coefficient of variation, under 5, 90%, 1990</td>\n",
       "            <td>IHME_GBD_2021_MORTALITY_1990_2021_SR_TABLE_6_Y2023M11D04.XLSX</td>\n",
       "        </tr>\n",
       "        <tr>\n",
       "            <td>SR Table 7: Death localization table &amp; coefficient of variation, all ages, 90%, 1990</td>\n",
       "            <td>IHME_GBD_2021_MORTALITY_1990_2021_SR_TABLE_7_Y2023M11D04.XLSX</td>\n",
       "        </tr>\n",
       "        <tr>\n",
       "            <td>SR Table 8: Death localization table &amp; coefficient of variation, under 5, 90%, 2021</td>\n",
       "            <td>IHME_GBD_2021_MORTALITY_1990_2021_SR_TABLE_8_Y2023M11D04.XLSX</td>\n",
       "        </tr>\n",
       "        <tr>\n",
       "            <td>SR Table 9: Death localization table &amp; coefficient of variation, all ages, 90%, 2021</td>\n",
       "            <td>IHME_GBD_2021_MORTALITY_1990_2021_SR_TABLE_9_Y2023M11D04.XLSX</td>\n",
       "        </tr>\n",
       "    </tbody>\n",
       "</table>"
      ],
      "text/plain": [
       "[('SR Table 2. Age-Standardised Mortality Rates per 100,000 and All-Age Deaths by location and cause (Males)', 'IHME_GBD_2021_MORTALITY_1990_2021_SR_TABLE_2_Y2023M11D04.XLSX'),\n",
       " ('SR Table 3. Age-Standardised Mortality Rates per 100,000 and All-Age Deaths by location and cause (Females)', 'IHME_GBD_2021_MORTALITY_1990_2021_SR_TABLE_3_Y2023M11D04.XLSX'),\n",
       " ('SR Table 4: LE Decomp, for 22 causes, both sex, all ages', 'IHME_GBD_2021_MORTALITY_1990_2021_SR_TABLE_4_Y2023M11D04.XLSX'),\n",
       " ('SR Table 5. Age-Standardised Rate of YLLs per 100000 and All-Age YLLs by location and cause (Both-sex)', 'IHME_GBD_2021_MORTALITY_1990_2021_SR_TABLE_5_Y2023M11D04.XLSX'),\n",
       " ('SR Table 6: Death localization table & coefficient of variation, under 5, 90%, 1990', 'IHME_GBD_2021_MORTALITY_1990_2021_SR_TABLE_6_Y2023M11D04.XLSX'),\n",
       " ('SR Table 7: Death localization table & coefficient of variation, all ages, 90%, 1990', 'IHME_GBD_2021_MORTALITY_1990_2021_SR_TABLE_7_Y2023M11D04.XLSX'),\n",
       " ('SR Table 8: Death localization table & coefficient of variation, under 5, 90%, 2021', 'IHME_GBD_2021_MORTALITY_1990_2021_SR_TABLE_8_Y2023M11D04.XLSX'),\n",
       " ('SR Table 9: Death localization table & coefficient of variation, all ages, 90%, 2021', 'IHME_GBD_2021_MORTALITY_1990_2021_SR_TABLE_9_Y2023M11D04.XLSX')]"
      ]
     },
     "execution_count": 5,
     "metadata": {},
     "output_type": "execute_result"
    }
   ],
   "source": [
    "%sql select * from table_index;"
   ]
  },
  {
   "cell_type": "code",
   "execution_count": 6,
   "id": "4aafe4d8",
   "metadata": {},
   "outputs": [
    {
     "name": "stdout",
     "output_type": "stream",
     "text": [
      " * sqlite:///database/gbd.sqlite\n",
      "(sqlite3.OperationalError) no such table: IHME_GBD_2021_MORTALITY_1990_2021_SR_TABLE_1_Y2024M04D03\n",
      "[SQL: ALTER TABLE IHME_GBD_2021_MORTALITY_1990_2021_SR_TABLE_1_Y2024M04D03 RENAME TO morality_rates_both_sexes;]\n",
      "(Background on this error at: https://sqlalche.me/e/20/e3q8)\n"
     ]
    }
   ],
   "source": [
    "%%sql\n",
    "ALTER TABLE IHME_GBD_2021_MORTALITY_1990_2021_SR_TABLE_1_Y2024M04D03 RENAME TO morality_rates_both_sexes;\n",
    "ALTER TABLE IHME_GBD_2021_MORTALITY_1990_2021_SR_TABLE_2_Y2024M04D03 RENAME TO morality_rates_male;\n",
    "ALTER TABLE IHME_GBD_2021_MORTALITY_1990_2021_SR_TABLE_3_Y2024M04D03 RENAME TO morality_rates_female;\n",
    "ALTER TABLE IHME_GBD_2021_MORTALITY_1990_2021_SR_TABLE_4_Y2024M04D03 RENAME TO LE_Decomp_both_sexes;\n",
    "ALTER TABLE IHME_GBD_2021_MORTALITY_1990_2021_SR_TABLE_5_Y2024M04D03 RENAME TO YLL_location_cause_both_sexes;\n",
    "ALTER TABLE IHME_GBD_2021_MORTALITY_1990_2021_SR_TABLE_6_Y2024M04D03 RENAME TO death_cv_under5_1990;\n",
    "ALTER TABLE IHME_GBD_2021_MORTALITY_1990_2021_SR_TABLE_7_Y2024M04D03 RENAME TO death_cv_1990;\n",
    "ALTER TABLE IHME_GBD_2021_MORTALITY_1990_2021_SR_TABLE_8_Y2024M04D03 RENAME TO death_cv_under5_2021;\n",
    "ALTER TABLE IHME_GBD_2021_MORTALITY_1990_2021_SR_TABLE_9_Y2024M04D03 RENAME TO death_cv_2021;"
   ]
  },
  {
   "cell_type": "code",
   "execution_count": 7,
   "id": "95da597d",
   "metadata": {},
   "outputs": [
    {
     "name": "stdout",
     "output_type": "stream",
     "text": [
      " * sqlite:///database/gbd.sqlite\n",
      "Done.\n"
     ]
    },
    {
     "data": {
      "text/html": [
       "<table>\n",
       "    <thead>\n",
       "        <tr>\n",
       "            <th>name</th>\n",
       "        </tr>\n",
       "    </thead>\n",
       "    <tbody>\n",
       "        <tr>\n",
       "            <td>morality_rates_both_sexes</td>\n",
       "        </tr>\n",
       "        <tr>\n",
       "            <td>morality_rates_male</td>\n",
       "        </tr>\n",
       "        <tr>\n",
       "            <td>morality_rates_female</td>\n",
       "        </tr>\n",
       "        <tr>\n",
       "            <td>LE_Decomp_both_sexes</td>\n",
       "        </tr>\n",
       "        <tr>\n",
       "            <td>YLL_location_cause_both_sexes</td>\n",
       "        </tr>\n",
       "        <tr>\n",
       "            <td>death_cv_under5_1990</td>\n",
       "        </tr>\n",
       "        <tr>\n",
       "            <td>death_cv_1990</td>\n",
       "        </tr>\n",
       "        <tr>\n",
       "            <td>death_cv_under5_2021</td>\n",
       "        </tr>\n",
       "        <tr>\n",
       "            <td>death_cv_2021</td>\n",
       "        </tr>\n",
       "        <tr>\n",
       "            <td>table_index</td>\n",
       "        </tr>\n",
       "    </tbody>\n",
       "</table>"
      ],
      "text/plain": [
       "[('morality_rates_both_sexes',),\n",
       " ('morality_rates_male',),\n",
       " ('morality_rates_female',),\n",
       " ('LE_Decomp_both_sexes',),\n",
       " ('YLL_location_cause_both_sexes',),\n",
       " ('death_cv_under5_1990',),\n",
       " ('death_cv_1990',),\n",
       " ('death_cv_under5_2021',),\n",
       " ('death_cv_2021',),\n",
       " ('table_index',)]"
      ]
     },
     "execution_count": 7,
     "metadata": {},
     "output_type": "execute_result"
    }
   ],
   "source": [
    "%sql SELECT name from sqlite_master where type='table';"
   ]
  },
  {
   "cell_type": "code",
   "execution_count": 8,
   "id": "ed38fcbb",
   "metadata": {},
   "outputs": [
    {
     "name": "stdout",
     "output_type": "stream",
     "text": [
      " * sqlite:///database/gbd.sqlite\n",
      "Done.\n"
     ]
    },
    {
     "data": {
      "text/html": [
       "<table>\n",
       "    <thead>\n",
       "        <tr>\n",
       "            <th>location_type</th>\n",
       "            <th>location_name</th>\n",
       "            <th>cause_name</th>\n",
       "            <th>1990 (ASMR)</th>\n",
       "            <th>2010 (ASMR)</th>\n",
       "            <th>2019 (ASMR)</th>\n",
       "            <th>2020 (ASMR)</th>\n",
       "            <th>2021 (ASMR)</th>\n",
       "            <th>1990 (All-Age Deaths)</th>\n",
       "            <th>2010 (All-Age Deaths)</th>\n",
       "            <th>2019 (All-Age Deaths)</th>\n",
       "            <th>2020 (All-Age Deaths)</th>\n",
       "            <th>2021 (All-Age Deaths)</th>\n",
       "        </tr>\n",
       "    </thead>\n",
       "    <tbody>\n",
       "        <tr>\n",
       "            <td>Global</td>\n",
       "            <td>Global</td>\n",
       "            <td>Acute glomerulonephritis</td>\n",
       "            <td>0.29 (0.22-0.37)</td>\n",
       "            <td>0.15 (0.10-0.19)</td>\n",
       "            <td>0.14 (0.10-0.18)</td>\n",
       "            <td>0.14 (0.09-0.17)</td>\n",
       "            <td>0.13 (0.09-0.17)</td>\n",
       "            <td>12898.8 (9910.8-16333.8)</td>\n",
       "            <td>9937.0 (6542.5-11955.8)</td>\n",
       "            <td>11167.2 (7733.4-14058.6)</td>\n",
       "            <td>10940.2 (7629.3-13902.3)</td>\n",
       "            <td>10774.8 (7601.7-13803.0)</td>\n",
       "        </tr>\n",
       "        <tr>\n",
       "            <td>Global</td>\n",
       "            <td>Global</td>\n",
       "            <td>Acute hepatitis A</td>\n",
       "            <td>1.81 (1.48-2.22)</td>\n",
       "            <td>0.93 (0.74-1.20)</td>\n",
       "            <td>0.42 (0.29-0.65)</td>\n",
       "            <td>0.38 (0.26-0.61)</td>\n",
       "            <td>0.35 (0.23-0.57)</td>\n",
       "            <td>95032.9 (78430.1-115033.5)</td>\n",
       "            <td>62567.5 (50136.7-81220.3)</td>\n",
       "            <td>31401.3 (21601.2-48481.7)</td>\n",
       "            <td>28893.5 (19678.6-46037.8)</td>\n",
       "            <td>26916.3 (18069.6-44051.3)</td>\n",
       "        </tr>\n",
       "    </tbody>\n",
       "</table>"
      ],
      "text/plain": [
       "[('Global', 'Global', 'Acute glomerulonephritis', '0.29 (0.22-0.37)', '0.15 (0.10-0.19)', '0.14 (0.10-0.18)', '0.14 (0.09-0.17)', '0.13 (0.09-0.17)', '12898.8 (9910.8-16333.8)', '9937.0 (6542.5-11955.8)', '11167.2 (7733.4-14058.6)', '10940.2 (7629.3-13902.3)', '10774.8 (7601.7-13803.0)'),\n",
       " ('Global', 'Global', 'Acute hepatitis A', '1.81 (1.48-2.22)', '0.93 (0.74-1.20)', '0.42 (0.29-0.65)', '0.38 (0.26-0.61)', '0.35 (0.23-0.57)', '95032.9 (78430.1-115033.5)', '62567.5 (50136.7-81220.3)', '31401.3 (21601.2-48481.7)', '28893.5 (19678.6-46037.8)', '26916.3 (18069.6-44051.3)')]"
      ]
     },
     "execution_count": 8,
     "metadata": {},
     "output_type": "execute_result"
    }
   ],
   "source": [
    "%sql select * from morality_rates_both_sexes limit 2;"
   ]
  },
  {
   "cell_type": "code",
   "execution_count": 9,
   "id": "0d296cf6",
   "metadata": {},
   "outputs": [
    {
     "name": "stdout",
     "output_type": "stream",
     "text": [
      " * sqlite:///database/gbd.sqlite\n",
      "Done.\n"
     ]
    },
    {
     "data": {
      "text/html": [
       "<table>\n",
       "    <thead>\n",
       "        <tr>\n",
       "            <th>location_name</th>\n",
       "        </tr>\n",
       "    </thead>\n",
       "    <tbody>\n",
       "        <tr>\n",
       "            <td>Southern Latin America</td>\n",
       "        </tr>\n",
       "        <tr>\n",
       "            <td>Latin America and Caribbean</td>\n",
       "        </tr>\n",
       "        <tr>\n",
       "            <td>Andean Latin America</td>\n",
       "        </tr>\n",
       "        <tr>\n",
       "            <td>Central Latin America</td>\n",
       "        </tr>\n",
       "        <tr>\n",
       "            <td>Tropical Latin America</td>\n",
       "        </tr>\n",
       "    </tbody>\n",
       "</table>"
      ],
      "text/plain": [
       "[('Southern Latin America',),\n",
       " ('Latin America and Caribbean',),\n",
       " ('Andean Latin America',),\n",
       " ('Central Latin America',),\n",
       " ('Tropical Latin America',)]"
      ]
     },
     "execution_count": 9,
     "metadata": {},
     "output_type": "execute_result"
    }
   ],
   "source": [
    "%%sql select distinct location_name from morality_rates_both_sexes\n",
    "    where location_name like \"%Latin America%\";"
   ]
  },
  {
   "cell_type": "markdown",
   "id": "be43eb74",
   "metadata": {},
   "source": [
    "### Helper"
   ]
  },
  {
   "cell_type": "code",
   "execution_count": 2,
   "id": "735d42bf",
   "metadata": {},
   "outputs": [],
   "source": [
    "# Category dictionary\n",
    "cause_categories = {\n",
    "    \"Ischemic heart disease\": \"Cardiovascular disease\",\n",
    "    \"COVID-19\": \"Infectious disease\",\n",
    "    \"Alzheimer's disease and other dementias\": \"Neurodegenerative disease\",\n",
    "    \"Chronic obstructive pulmonary disease\": \"Chronic respiratory disease\",\n",
    "    \"Tracheal, bronchus, and lung cancer\": \"Cancer\",\n",
    "    \"Ischemic stroke\": \"Cardiovascular disease\",\n",
    "    \"Colon and rectum cancer\": \"Cancer\",\n",
    "    \"Breast Cancer\": \"Cancer\",\n",
    "    \"Diabetes mellitus type 2\": \"Metabolic disease\",\n",
    "    \"Hypertensive heart disease\": \"Cardiovascular disease\",\n",
    "    \"Intracerebral hemorrhage\": \"Cardiovascular disease\",\n",
    "    \"Prostate cancer\": \"Cancer\",\n",
    "    \"Opioid use disorders\": \"Substance use disorder\",\n",
    "    \"Breast cancer\": \"Cancer\",\n",
    "    \"Lower respiratory infections\": \"Infectious disease\",\n",
    "    \"Cirrhosis and other chronic liver diseases\": \"Liver disease\",\n",
    "    \"Chronic kidney disease\": \"Kidney disease\",\n",
    "    \"Colorectal cancer\": \"Cancer\",\n",
    "    \"Chronic kidney disease due to diabetes mellitus type 2\": \"Kidney disease\",\n",
    "    \"Chronic kidney disease due to glomerulonephritis\": \"Kidney disease\",\n",
    "    \"Lower respiratory infections\" : \"Infectious disease\",\n",
    "    \"Chronic obstructive pulmonary disease\": \"Chronic respiratory disease\",\n",
    "    \"Cirrhosis due to alcohol\": \"Liver disease\",\n",
    "    \"Chronic hepatitis C including cirrhosis\": \"Liver disease\",\n",
    "    \"Chronic kidney disease due to other and unspecified causes\": \"Kidney disease\",\n",
    "    \"Other COVID-19 pandemic-related outcomes\": \"Infectious disease\",\n",
    "}\n",
    "\n",
    "# Helper function\n",
    "def add_categories(df):\n",
    "    df = df.copy()  # don’t overwrite original\n",
    "    df[\"Type\"] = df[\"cause\"].map(cause_categories)\n",
    "    df[\"Rank\"] = df.index + 1  # add rank column\n",
    "    return df"
   ]
  },
  {
   "cell_type": "markdown",
   "id": "637e4b27",
   "metadata": {},
   "source": [
    "### What diseases cause the most deaths in the US?"
   ]
  },
  {
   "cell_type": "code",
   "execution_count": 3,
   "id": "222692b7",
   "metadata": {},
   "outputs": [
    {
     "name": "stdout",
     "output_type": "stream",
     "text": [
      " * sqlite:///data/gbd.sqlite\n",
      "Done.\n",
      "Returning data to local variable us_deaths\n"
     ]
    }
   ],
   "source": [
    "%%sql us_deaths <<\n",
    "SELECT cause_name as cause,\n",
    "       \"2010 (ASMR)\",\n",
    "       \"2021 (ASMR)\",\n",
    "       \"2021 (All-Age Deaths)\" as total_deaths_2021,\n",
    "       \"2010 (All-Age Deaths)\" as total_deaths_2010\n",
    "FROM morality_rates_both_sexes\n",
    "WHERE location_name = 'United States of America'\n",
    "ORDER BY CAST(substr(\"2021 (All-Age Deaths)\", 1, instr(\"2021 (All-Age Deaths)\", ' ') - 1) AS FLOAT) DESC\n",
    "LIMIT 10;"
   ]
  },
  {
   "cell_type": "code",
   "execution_count": 4,
   "id": "3faf12c5",
   "metadata": {},
   "outputs": [
    {
     "name": "stdout",
     "output_type": "stream",
     "text": [
      " * sqlite:///data/gbd.sqlite\n",
      "Done.\n",
      "Returning data to local variable us_deaths_additional\n"
     ]
    }
   ],
   "source": [
    "%%sql us_deaths_additional <<\n",
    "SELECT cause_name as cause,\n",
    "       \"2010 (ASMR)\",\n",
    "       \"2021 (ASMR)\",\n",
    "       \"2021 (All-Age Deaths)\" as total_deaths_2021,\n",
    "       \"2010 (All-Age Deaths)\" as total_deaths_2010\n",
    "FROM morality_rates_both_sexes\n",
    "WHERE location_name = 'United States of America'\n",
    "  AND (\n",
    "    cause like '%breast%'\n",
    "    OR cause like '%prostate%'\n",
    "    OR cause like '%opioid%'\n",
    "  )\n",
    "ORDER BY CAST(substr(\"2021 (All-Age Deaths)\", 1, instr(\"2021 (All-Age Deaths)\", ' ') - 1) AS FLOAT) DESC\n",
    "LIMIT 10;"
   ]
  },
  {
   "cell_type": "code",
   "execution_count": 5,
   "id": "b58a0ad4",
   "metadata": {},
   "outputs": [
    {
     "name": "stdout",
     "output_type": "stream",
     "text": [
      "+----------------------+--------------------+---------------------+---------------------------+---------------------------+\n",
      "|        cause         |    2010 (ASMR)     |     2021 (ASMR)     |     total_deaths_2021     |     total_deaths_2010     |\n",
      "+----------------------+--------------------+---------------------+---------------------------+---------------------------+\n",
      "| Opioid use disorders |  7.16 (6.84-7.51)  | 15.38 (13.63-17.30) | 55454.0 (48758.5-62835.3) | 24445.8 (23346.0-25598.4) |\n",
      "|    Breast cancer     | 10.78 (9.76-11.29) |   9.41 (8.53-9.94)  | 53471.4 (47803.3-56779.9) | 48952.1 (43822.2-51538.5) |\n",
      "|   Prostate cancer    |  7.42 (6.75-7.77)  |   6.91 (6.21-7.32)  | 44029.0 (39312.3-46747.1) | 36514.7 (32885.0-38332.1) |\n",
      "+----------------------+--------------------+---------------------+---------------------------+---------------------------+\n"
     ]
    }
   ],
   "source": [
    "print(us_deaths_additional)\n",
    "\n",
    "#combine both\n",
    "us_deaths_both = pd.concat([ us_deaths.DataFrame(), us_deaths_additional.DataFrame()], ignore_index=True)"
   ]
  },
  {
   "cell_type": "code",
   "execution_count": 6,
   "id": "d44fa396",
   "metadata": {},
   "outputs": [
    {
     "name": "stdout",
     "output_type": "stream",
     "text": [
      "| cause                                   | 2010 (ASMR)          | 2021 (ASMR)         | total_deaths_2021            | total_deaths_2010            | Type                        |   Rank |\n",
      "|:----------------------------------------|:---------------------|:--------------------|:-----------------------------|:-----------------------------|:----------------------------|-------:|\n",
      "| Ischemic heart disease                  | 94.47 (83.20-100.09) | 78.91 (69.67-83.78) | 493159.3 (429792.2-526475.9) | 465668.8 (403900.5-496118.9) | Cardiovascular disease      |      1 |\n",
      "| COVID-19                                | 0.00 (0.00-0.00)     | 86.13 (84.42-87.86) | 483557.0 (474047.7-493138.1) | 0.0 (0.0-0.0)                | Infectious disease          |      2 |\n",
      "| Alzheimer's disease and other dementias | 29.49 (7.47-74.34)   | 29.22 (7.43-73.30)  | 198341.2 (50556.0-496323.7)  | 157783.0 (39943.7-395503.3)  | Neurodegenerative disease   |      3 |\n",
      "| Chronic obstructive pulmonary disease   | 33.07 (29.33-34.85)  | 31.31 (27.65-33.18) | 198013.3 (173659.8-210420.3) | 160177.8 (140567.6-169550.5) | Chronic respiratory disease |      4 |\n",
      "| Tracheal, bronchus, and lung cancer     | 38.80 (36.02-40.31)  | 28.94 (26.55-30.40) | 175469.3 (159995.5-184719.0) | 177100.5 (163380.3-184527.1) | Cancer                      |      5 |\n",
      "| Ischemic stroke                         | 16.72 (13.80-18.23)  | 17.33 (14.24-18.93) | 115533.7 (94307.1-126700.0)  | 88498.7 (72345.1-96860.7)    | Cardiovascular disease      |      6 |\n",
      "| Colon and rectum cancer                 | 14.62 (13.32-15.37)  | 12.79 (11.66-13.51) | 75082.2 (67503.9-79684.8)    | 68271.4 (61467.6-72075.5)    | Cancer                      |      7 |\n",
      "| Diabetes mellitus type 2                | 14.15 (12.86-14.89)  | 11.81 (10.75-12.49) | 70707.6 (63673.6-74999.5)    | 66941.9 (60132.4-70738.1)    | Metabolic disease           |      8 |\n",
      "| Hypertensive heart disease              | 9.29 (8.26-9.80)     | 11.36 (9.85-12.64)  | 68682.2 (58474.5-76752.8)    | 44540.9 (38959.0-47305.9)    | Cardiovascular disease      |      9 |\n",
      "| Intracerebral hemorrhage                | 10.90 (9.82-11.48)   | 9.69 (8.73-10.25)   | 58166.7 (51856.8-61719.0)    | 51183.7 (45422.2-54168.1)    | Cardiovascular disease      |     10 |\n",
      "| Opioid use disorders                    | 7.16 (6.84-7.51)     | 15.38 (13.63-17.30) | 55454.0 (48758.5-62835.3)    | 24445.8 (23346.0-25598.4)    | Substance use disorder      |     11 |\n",
      "| Breast cancer                           | 10.78 (9.76-11.29)   | 9.41 (8.53-9.94)    | 53471.4 (47803.3-56779.9)    | 48952.1 (43822.2-51538.5)    | Cancer                      |     12 |\n",
      "| Prostate cancer                         | 7.42 (6.75-7.77)     | 6.91 (6.21-7.32)    | 44029.0 (39312.3-46747.1)    | 36514.7 (32885.0-38332.1)    | Cancer                      |     13 |\n"
     ]
    }
   ],
   "source": [
    "df = us_deaths_both\n",
    "df = add_categories(df)\n",
    "print(df.to_markdown(index=False))\n",
    "\n",
    "#df = pd.DataFrame(df)\n",
    "#dfi.export(df, 'my_dataframe.png')"
   ]
  },
  {
   "cell_type": "code",
   "execution_count": 7,
   "id": "9d9b90cb",
   "metadata": {},
   "outputs": [
    {
     "name": "stdout",
     "output_type": "stream",
     "text": [
      "| cause                                   |   2010 (ASMR) |   2021 (ASMR) |   total_deaths_2021 | total_deaths_2010            | Type                        |   Rank |   Percent Change |\n",
      "|:----------------------------------------|--------------:|--------------:|--------------------:|:-----------------------------|:----------------------------|-------:|-----------------:|\n",
      "| Ischemic heart disease                  |         94.47 |         78.91 |            493159   | 465668.8 (403900.5-496118.9) | Cardiovascular disease      |      1 |       -16.4708   |\n",
      "| COVID-19                                |          0    |         86.13 |            483557   | 0.0 (0.0-0.0)                | Infectious disease          |      2 |       100        |\n",
      "| Alzheimer's disease and other dementias |         29.49 |         29.22 |            198341   | 157783.0 (39943.7-395503.3)  | Neurodegenerative disease   |      3 |        -0.915565 |\n",
      "| Chronic obstructive pulmonary disease   |         33.07 |         31.31 |            198013   | 160177.8 (140567.6-169550.5) | Chronic respiratory disease |      4 |        -5.32204  |\n",
      "| Tracheal, bronchus, and lung cancer     |         38.8  |         28.94 |            175469   | 177100.5 (163380.3-184527.1) | Cancer                      |      5 |       -25.4124   |\n",
      "| Ischemic stroke                         |         16.72 |         17.33 |            115534   | 88498.7 (72345.1-96860.7)    | Cardiovascular disease      |      6 |         3.64833  |\n",
      "| Colon and rectum cancer                 |         14.62 |         12.79 |             75082.2 | 68271.4 (61467.6-72075.5)    | Cancer                      |      7 |       -12.5171   |\n",
      "| Diabetes mellitus type 2                |         14.15 |         11.81 |             70707.6 | 66941.9 (60132.4-70738.1)    | Metabolic disease           |      8 |       -16.5371   |\n",
      "| Hypertensive heart disease              |          9.29 |         11.36 |             68682.2 | 44540.9 (38959.0-47305.9)    | Cardiovascular disease      |      9 |        22.282    |\n",
      "| Intracerebral hemorrhage                |         10.9  |          9.69 |             58166.7 | 51183.7 (45422.2-54168.1)    | Cardiovascular disease      |     10 |       -11.1009   |\n",
      "| Opioid use disorders                    |          7.16 |         15.38 |             55454   | 24445.8 (23346.0-25598.4)    | Substance use disorder      |     11 |       114.804    |\n",
      "| Breast cancer                           |         10.78 |          9.41 |             53471.4 | 48952.1 (43822.2-51538.5)    | Cancer                      |     12 |       -12.7087   |\n",
      "| Prostate cancer                         |          7.42 |          6.91 |             44029   | 36514.7 (32885.0-38332.1)    | Cancer                      |     13 |        -6.87332  |\n"
     ]
    }
   ],
   "source": [
    "# Extract only the first number (point estimate) for each column\n",
    "for col in [\"2010 (ASMR)\", \"2021 (ASMR)\", \"total_deaths_2021\"]:\n",
    "    df[col] = df[col].str.extract(r'^([-+]?\\d+\\.?\\d*)')\n",
    "    df[col] = df[col].astype(float)\n",
    "\n",
    "# Calculate percent change and add as a new column\n",
    "df[\"Percent Change\"] = ((df[\"2021 (ASMR)\"] - df[\"2010 (ASMR)\"]) / df[\"2010 (ASMR)\"]) * 100\n",
    "\n",
    "# Manually set COVID-19 percent change to 100\n",
    "df.loc[df[\"cause\"] == \"COVID-19\", \"Percent Change\"] = 100\n",
    "\n",
    "print(df.to_markdown(index=False))"
   ]
  },
  {
   "cell_type": "code",
   "execution_count": 8,
   "id": "03228370",
   "metadata": {},
   "outputs": [
    {
     "data": {
      "image/png": "[encoded data removed]",
      "text/plain": [
       "<Figure size 1000x600 with 1 Axes>"
      ]
     },
     "metadata": {},
     "output_type": "display_data"
    }
   ],
   "source": [
    "\n",
    "# --- 1) Parse numeric part of 2010 column ---\n",
    "df[\"total_deaths_2010_num\"] = (\n",
    "    df[\"total_deaths_2010\"].astype(str).str.extract(r'^([-+]?\\d+\\.?\\d*)').astype(float)\n",
    ")\n",
    "\n",
    "# --- 2) Sort descending for plotting ---\n",
    "df = df.sort_values(\"total_deaths_2021\", ascending=True)\n",
    "\n",
    "xmax = df[[\"total_deaths_2021\", \"total_deaths_2010_num\"]].max().max()\n",
    "\n",
    "fig, ax = plt.subplots(figsize=(10, 6))\n",
    "\n",
    "# --- 3) Bars ---\n",
    "# 2010 reference (lighter, behind)\n",
    "ax.barh(\n",
    "    df[\"cause\"],\n",
    "    df[\"total_deaths_2010_num\"],\n",
    "    height=0.8,\n",
    "    color=\"steelblue\",\n",
    "    alpha=0.3,\n",
    "    label=\"2010\"\n",
    ")\n",
    "\n",
    "# 2021 overlay (darker, narrower)\n",
    "bars = ax.barh(\n",
    "    df[\"cause\"],\n",
    "    df[\"total_deaths_2021\"],\n",
    "    height=0.5,\n",
    "    color=\"steelblue\",\n",
    "    label=\"2021\"\n",
    ")\n",
    "\n",
    "# --- 4) Axis and labels ---\n",
    "ax.set_xlim(0, xmax * 1.15)  # add headroom\n",
    "\n",
    "# Label 2021 bars with numbers\n",
    "for bar, val in zip(bars, df[\"total_deaths_2021\"]):\n",
    "    ax.text(\n",
    "        val + xmax * 0.02,\n",
    "        bar.get_y() + bar.get_height()/2,\n",
    "        f\"{int(val):,}\",\n",
    "        va=\"center\", ha=\"left\", fontsize=9\n",
    "    )\n",
    "\n",
    "ax.set_title(\"Total Deaths by Cause (2010 - 2021, Both Genders)\", fontsize=14, weight=\"bold\")\n",
    "ax.set_xlabel(\"Total Deaths (absolute count)\")\n",
    "ax.set_ylabel(\"Cause\")\n",
    "ax.legend(loc=\"lower right\", frameon=False)\n",
    "\n",
    "plt.tight_layout()\n",
    "plt.show()"
   ]
  },
  {
   "cell_type": "code",
   "execution_count": 9,
   "id": "c7996281",
   "metadata": {},
   "outputs": [
    {
     "data": {
      "image/png": "[encoded data removed]",
      "text/plain": [
       "<Figure size 1400x1000 with 1 Axes>"
      ]
     },
     "metadata": {},
     "output_type": "display_data"
    }
   ],
   "source": [
    "# Calculate change\n",
    "df[\"Change\"] = df[\"2021 (ASMR)\"] - df[\"2010 (ASMR)\"]\n",
    "\n",
    "# Assign colors: blue if decrease, red if increase\n",
    "df[\"Color\"] = df[\"Change\"].apply(lambda x: \"steelblue\" if x < 0 else \"indianred\")\n",
    "\n",
    "# Sort by change for readability\n",
    "df = df.sort_values(\"Change\")\n",
    "\n",
    "# Calculate min and max for Change and padding\n",
    "min_change = df[\"Change\"].min()\n",
    "max_change = df[\"Change\"].max()\n",
    "pad = (max_change - min_change) * 0.1  # 10% padding\n",
    "\n",
    "# Plot\n",
    "plt.figure(figsize=(14, 10))\n",
    "bars = plt.barh(df[\"cause\"], df[\"Change\"], color=df[\"Color\"])\n",
    "\n",
    "# Set x-axis limits with padding\n",
    "plt.xlim(min_change - pad, max_change + pad)\n",
    "\n",
    "# Add labels\n",
    "for bar, change in zip(bars, df[\"Change\"]):\n",
    "    plt.text(\n",
    "        bar.get_width() + (0.5 if change > 0 else -1.5),  # offset based on direction\n",
    "        bar.get_y() + bar.get_height()/2,\n",
    "        f\"{change:+.2f}\", va=\"center\",\n",
    "        ha=\"left\" if change > 0 else \"right\",\n",
    "        fontsize=9\n",
    "    )\n",
    "\n",
    "plt.axvline(0, color=\"black\", linewidth=0.8)\n",
    "plt.title(\"Change in ASMR (2010 → 2021, Both Genders)\", fontsize=14, weight=\"bold\")\n",
    "plt.xlabel(\"Change in Age-Standardized Mortality Rate\")\n",
    "plt.ylabel(\"Cause\")\n",
    "plt.tight_layout()\n",
    "plt.show()"
   ]
  },
  {
   "cell_type": "code",
   "execution_count": 10,
   "id": "cc845b29",
   "metadata": {},
   "outputs": [
    {
     "data": {
      "image/png": "[encoded data removed]",
      "text/plain": [
       "<Figure size 1000x600 with 1 Axes>"
      ]
     },
     "metadata": {},
     "output_type": "display_data"
    }
   ],
   "source": [
    "# Sort by percent change for readability\n",
    "df_sorted = df.sort_values(\"Percent Change\")\n",
    "\n",
    "fig, ax = plt.subplots(figsize=(10, 6))\n",
    "\n",
    "# Assign colors\n",
    "colors = df_sorted[\"Percent Change\"].apply(lambda x: \"steelblue\" if x < 0 else \"indianred\")\n",
    "\n",
    "# Plot\n",
    "bars = ax.barh(df_sorted[\"cause\"], df_sorted[\"Percent Change\"], color=colors)\n",
    "\n",
    "# Add labels to bars\n",
    "for bar, change in zip(bars, df_sorted[\"Percent Change\"]):\n",
    "    ax.text(\n",
    "        bar.get_width() + (1 if change > 0 else -1.5),   # offset depending on direction\n",
    "        bar.get_y() + bar.get_height()/2,\n",
    "        f\"{change:+.1f}%\",  # sign + one decimal\n",
    "        va=\"center\", ha=\"left\" if change > 0 else \"right\", fontsize=9\n",
    "    )\n",
    "\n",
    "\n",
    "# padding\n",
    "ax.margins(x=0.2)\n",
    "# Formatting\n",
    "ax.axvline(0, color=\"black\", linewidth=0.8)  # zero reference line\n",
    "ax.set_title(\"Percent Change in ASMR (2010 → 2021, Both Genders)\", fontsize=14, weight=\"bold\")\n",
    "ax.set_xlabel(\"Percent Change (%)\")\n",
    "ax.set_ylabel(\"Cause\")\n",
    "\n",
    "plt.tight_layout()\n",
    "plt.show()"
   ]
  },
  {
   "cell_type": "markdown",
   "id": "9743eda6",
   "metadata": {},
   "source": [
    "### Male"
   ]
  },
  {
   "cell_type": "code",
   "execution_count": 11,
   "id": "5ef85f2e",
   "metadata": {},
   "outputs": [
    {
     "name": "stdout",
     "output_type": "stream",
     "text": [
      " * sqlite:///data/gbd.sqlite\n",
      "Done.\n",
      "Returning data to local variable us_deaths_male\n"
     ]
    }
   ],
   "source": [
    "%%sql us_deaths_male <<\n",
    "SELECT cause_name as cause,\n",
    "       \"2010 (ASMR)\",\n",
    "       \"2021 (ASMR)\",\n",
    "       \"2021 (All-Age Deaths)\" as total_deaths_2021\n",
    "FROM morality_rates_male\n",
    "WHERE location_name = 'United States of America'\n",
    "ORDER BY CAST(substr(\"2021 (All-Age Deaths)\", 1, instr(\"2021 (All-Age Deaths)\", ' ') - 1) AS FLOAT) DESC\n",
    "LIMIT 10;"
   ]
  },
  {
   "cell_type": "code",
   "execution_count": 12,
   "id": "4178314c",
   "metadata": {},
   "outputs": [
    {
     "name": "stdout",
     "output_type": "stream",
     "text": [
      "| cause                                   | 2010 (ASMR)            | 2021 (ASMR)            | total_deaths_2021            | Type                        |   Rank |\n",
      "|:----------------------------------------|:-----------------------|:-----------------------|:-----------------------------|:----------------------------|-------:|\n",
      "| Ischemic heart disease                  | 125.80 (114.53-131.07) | 108.09 (98.27-113.55)  | 281430.9 (256579.6-295340.8) | Cardiovascular disease      |      1 |\n",
      "| COVID-19                                | 0.00 (0.00-0.00)       | 111.95 (109.74-114.21) | 271851.9 (266506.3-277321.7) | Infectious disease          |      2 |\n",
      "| Tracheal, bronchus, and lung cancer     | 48.68 (45.75-50.44)    | 34.77 (32.48-36.35)    | 94731.5 (88596.5-98908.0)    | Cancer                      |      3 |\n",
      "| Chronic obstructive pulmonary disease   | 38.02 (34.61-39.71)    | 34.59 (31.53-36.30)    | 93157.7 (85247.4-97580.7)    | Chronic respiratory disease |      4 |\n",
      "| Alzheimer's disease and other dementias | 25.65 (6.29-66.71)     | 25.64 (6.32-66.08)     | 65646.9 (16224.5-170705.7)   | Neurodegenerative disease   |      5 |\n",
      "| Prostate cancer                         | 18.68 (16.77-19.64)    | 16.47 (14.62-17.53)    | 44029.0 (39312.3-46747.1)    | Cancer                      |      6 |\n",
      "| Ischemic stroke                         | 15.54 (13.52-16.55)    | 16.77 (14.60-17.94)    | 43513.1 (38055.3-46497.3)    | Cardiovascular disease      |      7 |\n",
      "| Diabetes mellitus type 2                | 17.01 (15.79-17.73)    | 15.14 (14.02-15.90)    | 39860.2 (37009.7-41828.2)    | Metabolic disease           |      8 |\n",
      "| Colon and rectum cancer                 | 17.46 (16.29-18.19)    | 15.16 (14.13-15.91)    | 39375.2 (36650.6-41300.7)    | Cancer                      |      9 |\n",
      "| Opioid use disorders                    | 9.28 (8.81-9.79)       | 21.06 (18.84-23.70)    | 37238.4 (33078.6-42161.5)    | Substance use disorder      |     10 |\n"
     ]
    }
   ],
   "source": [
    "df = us_deaths_male.DataFrame()\n",
    "df = add_categories(df)\n",
    "print(df.to_markdown(index=False))"
   ]
  },
  {
   "cell_type": "markdown",
   "id": "dab90408",
   "metadata": {},
   "source": [
    "### Female"
   ]
  },
  {
   "cell_type": "code",
   "execution_count": 13,
   "id": "47e0e402",
   "metadata": {},
   "outputs": [
    {
     "name": "stdout",
     "output_type": "stream",
     "text": [
      " * sqlite:///data/gbd.sqlite\n",
      "Done.\n",
      "Returning data to local variable us_deaths_female\n"
     ]
    }
   ],
   "source": [
    "%%sql us_deaths_female <<\n",
    "SELECT cause_name as cause,\n",
    "       \"2010 (ASMR)\",\n",
    "       \"2021 (ASMR)\",\n",
    "       \"2021 (All-Age Deaths)\" as total_deaths_2021\n",
    "FROM morality_rates_female\n",
    "WHERE location_name = 'United States of America'\n",
    "ORDER BY CAST(substr(\"2021 (All-Age Deaths)\", 1, instr(\"2021 (All-Age Deaths)\", ' ') - 1) AS FLOAT) DESC\n",
    "LIMIT 10;"
   ]
  },
  {
   "cell_type": "code",
   "execution_count": 14,
   "id": "6d25b011",
   "metadata": {},
   "outputs": [
    {
     "name": "stdout",
     "output_type": "stream",
     "text": [
      "| cause                                   | 2010 (ASMR)         | 2021 (ASMR)         | total_deaths_2021            | Type                        |   Rank |\n",
      "|:----------------------------------------|:--------------------|:--------------------|:-----------------------------|:----------------------------|-------:|\n",
      "| Ischemic heart disease                  | 69.97 (58.69-75.78) | 55.29 (46.28-60.03) | 211728.4 (171773.1-232530.3) | Cardiovascular disease      |      1 |\n",
      "| COVID-19                                | 0.00 (0.00-0.00)    | 63.36 (62.10-64.62) | 211705.0 (207577.3-215911.7) | Infectious disease          |      2 |\n",
      "| Alzheimer's disease and other dementias | 31.85 (8.17-79.44)  | 31.65 (8.16-78.43)  | 132694.3 (34331.5-325656.2)  | Neurodegenerative disease   |      3 |\n",
      "| Chronic obstructive pulmonary disease   | 29.87 (25.86-31.83) | 28.95 (24.72-31.01) | 104855.6 (88270.9-113104.8)  | Chronic respiratory disease |      4 |\n",
      "| Tracheal, bronchus, and lung cancer     | 31.10 (28.32-32.66) | 24.22 (21.57-25.66) | 80737.8 (71254.3-85998.3)    | Cancer                      |      5 |\n",
      "| Ischemic stroke                         | 17.06 (13.67-18.83) | 17.35 (13.69-19.23) | 72020.6 (56014.6-80386.6)    | Cardiovascular disease      |      6 |\n",
      "| Breast cancer                           | 19.43 (17.77-20.30) | 17.17 (15.66-18.09) | 52868.1 (47230.3-56148.3)    | Cancer                      |      7 |\n",
      "| Hypertensive heart disease              | 7.95 (6.75-8.56)    | 9.94 (8.24-10.88)   | 37272.1 (29699.2-41374.3)    | Cardiovascular disease      |      8 |\n",
      "| Colon and rectum cancer                 | 12.30 (10.89-13.08) | 10.74 (9.48-11.48)  | 35707.1 (30800.8-38470.3)    | Cancer                      |      9 |\n",
      "| Diabetes mellitus type 2                | 11.84 (10.41-12.61) | 9.01 (7.92-9.65)    | 30847.5 (26494.5-33330.8)    | Metabolic disease           |     10 |\n"
     ]
    }
   ],
   "source": [
    "df = us_deaths_female.DataFrame()\n",
    "df = add_categories(df)\n",
    "print(df.to_markdown(index=False))"
   ]
  },
  {
   "cell_type": "markdown",
   "id": "a93c84cc",
   "metadata": {},
   "source": [
    "### Filling-For Both."
   ]
  },
  {
   "cell_type": "code",
   "execution_count": 15,
   "id": "d8de5eae",
   "metadata": {},
   "outputs": [
    {
     "name": "stdout",
     "output_type": "stream",
     "text": [
      " * sqlite:///data/gbd.sqlite\n",
      "Done.\n",
      "Returning data to local variable us_deaths_male_additional\n"
     ]
    }
   ],
   "source": [
    "%%sql us_deaths_male_additional <<\n",
    "SELECT cause_name as cause,\n",
    "       \"2010 (ASMR)\",\n",
    "       \"2021 (ASMR)\",\n",
    "       \"2021 (All-Age Deaths)\" as total_deaths_2021\n",
    "FROM morality_rates_male\n",
    "WHERE location_name = 'United States of America' and cause_name = 'Hypertensive heart disease'\n",
    "ORDER BY CAST(substr(\"2021 (All-Age Deaths)\", 1, instr(\"2021 (All-Age Deaths)\", ' ') - 1) AS FLOAT) DESC\n",
    "LIMIT 11;"
   ]
  },
  {
   "cell_type": "code",
   "execution_count": 16,
   "id": "e5a93978",
   "metadata": {},
   "outputs": [
    {
     "name": "stdout",
     "output_type": "stream",
     "text": [
      " * sqlite:///data/gbd.sqlite\n",
      "Done.\n",
      "Returning data to local variable us_deaths_female_additional\n"
     ]
    }
   ],
   "source": [
    "%%sql us_deaths_female_additional <<\n",
    "SELECT cause_name as cause,\n",
    "       \"2010 (ASMR)\",\n",
    "       \"2021 (ASMR)\",\n",
    "       \"2021 (All-Age Deaths)\" as total_deaths_2021\n",
    "FROM morality_rates_female\n",
    "WHERE location_name = 'United States of America' and cause_name = 'Opioid use disorders'\n",
    "ORDER BY CAST(substr(\"2021 (All-Age Deaths)\", 1, instr(\"2021 (All-Age Deaths)\", ' ') - 1) AS FLOAT) DESC\n",
    "LIMIT 11;"
   ]
  },
  {
   "cell_type": "code",
   "execution_count": 17,
   "id": "1f8df4e2",
   "metadata": {},
   "outputs": [
    {
     "name": "stdout",
     "output_type": "stream",
     "text": [
      "| cause                                   |   2010 (ASMR) |   2021 (ASMR) |   total_deaths_2021 |\n",
      "|:----------------------------------------|--------------:|--------------:|--------------------:|\n",
      "| Ischemic heart disease                  |        125.8  |        108.09 |            281431   |\n",
      "| COVID-19                                |          0    |        111.95 |            271852   |\n",
      "| Tracheal, bronchus, and lung cancer     |         48.68 |         34.77 |             94731.5 |\n",
      "| Chronic obstructive pulmonary disease   |         38.02 |         34.59 |             93157.7 |\n",
      "| Alzheimer's disease and other dementias |         25.65 |         25.64 |             65646.9 |\n",
      "| Prostate cancer                         |         18.68 |         16.47 |             44029   |\n",
      "| Ischemic stroke                         |         15.54 |         16.77 |             43513.1 |\n",
      "| Diabetes mellitus type 2                |         17.01 |         15.14 |             39860.2 |\n",
      "| Colon and rectum cancer                 |         17.46 |         15.16 |             39375.2 |\n",
      "| Opioid use disorders                    |          9.28 |         21.06 |             37238.4 |\n",
      "| Hypertensive heart disease              |         10.4  |         12.59 |             31410.1 |\n"
     ]
    }
   ],
   "source": [
    "# print(us_deaths_male)\n",
    "combined_df_male = pd.concat([us_deaths_male.DataFrame(), us_deaths_male_additional.DataFrame()], ignore_index=True)\n",
    "male_df = combined_df_male\n",
    "\n",
    "# Extract only the first number (point estimate) for each column\n",
    "for col in [\"2010 (ASMR)\", \"2021 (ASMR)\", \"total_deaths_2021\"]:\n",
    "    male_df[col] = male_df[col].str.extract(r'^([-+]?\\d+\\.?\\d*)')\n",
    "    male_df[col] = male_df[col].astype(float)\n",
    "\n",
    "print(male_df.to_markdown(index=False))"
   ]
  },
  {
   "cell_type": "code",
   "execution_count": 18,
   "id": "26655ca0",
   "metadata": {},
   "outputs": [
    {
     "name": "stdout",
     "output_type": "stream",
     "text": [
      "| cause                                   |   2010 (ASMR) |   2021 (ASMR) |   total_deaths_2021 |\n",
      "|:----------------------------------------|--------------:|--------------:|--------------------:|\n",
      "| Ischemic heart disease                  |         69.97 |         55.29 |            211728   |\n",
      "| COVID-19                                |          0    |         63.36 |            211705   |\n",
      "| Alzheimer's disease and other dementias |         31.85 |         31.65 |            132694   |\n",
      "| Chronic obstructive pulmonary disease   |         29.87 |         28.95 |            104856   |\n",
      "| Tracheal, bronchus, and lung cancer     |         31.1  |         24.22 |             80737.8 |\n",
      "| Ischemic stroke                         |         17.06 |         17.35 |             72020.6 |\n",
      "| Breast cancer                           |         19.43 |         17.17 |             52868.1 |\n",
      "| Hypertensive heart disease              |          7.95 |          9.94 |             37272.1 |\n",
      "| Colon and rectum cancer                 |         12.3  |         10.74 |             35707.1 |\n",
      "| Diabetes mellitus type 2                |         11.84 |          9.01 |             30847.5 |\n",
      "| Opioid use disorders                    |          5.03 |          9.73 |             18215.6 |\n"
     ]
    }
   ],
   "source": [
    "# print(us_deaths_female)\n",
    "combined_df_female = pd.concat([us_deaths_female.DataFrame(), us_deaths_female_additional.DataFrame()], ignore_index=True)\n",
    "female_df = combined_df_female\n",
    "\n",
    "# Extract only the first number (point estimate) for each column\n",
    "for col in [\"2010 (ASMR)\", \"2021 (ASMR)\", \"total_deaths_2021\"]:\n",
    "    female_df[col] = female_df[col].str.extract(r'^([-+]?\\d+\\.?\\d*)')\n",
    "    female_df[col] = female_df[col].astype(float)\n",
    "\n",
    "print(female_df.to_markdown(index=False))"
   ]
  },
  {
   "cell_type": "code",
   "execution_count": 20,
   "id": "4642664b",
   "metadata": {},
   "outputs": [
    {
     "data": {
      "image/png": "[encoded data removed]",
      "text/plain": [
       "<Figure size 1800x800 with 2 Axes>"
      ]
     },
     "metadata": {},
     "output_type": "display_data"
    }
   ],
   "source": [
    "# Rename numeric columns for easier use\n",
    "male_df   = male_df.rename(columns={\"2010 (ASMR)\": \"male_2010\", \"2021 (ASMR)\": \"male_2021\"})\n",
    "female_df = female_df.rename(columns={\"2010 (ASMR)\": \"female_2010\", \"2021 (ASMR)\": \"female_2021\"})\n",
    "\n",
    "# --- Merge & order ---\n",
    "df = male_df.merge(female_df, on=\"cause\", how=\"outer\")\n",
    "df[\"rank_key\"] = df[[\"male_2021\", \"female_2021\"]].max(axis=1)\n",
    "df = df.sort_values(\"rank_key\", ascending=True).reset_index(drop=True)\n",
    "\n",
    "causes = df[\"cause\"].tolist()\n",
    "y = np.arange(len(df))\n",
    "m21 = df[\"male_2021\"].fillna(0).to_numpy()\n",
    "f21 = df[\"female_2021\"].fillna(0).to_numpy()\n",
    "\n",
    "fig = plt.figure(figsize=(18, 8))\n",
    "gs = GridSpec(1, 2, width_ratios=[1, 1], wspace=0)  # no gap\n",
    "axL = fig.add_subplot(gs[0, 0])\n",
    "axR = fig.add_subplot(gs[0, 1], sharey=axL)\n",
    "\n",
    "# Symmetric x-limits for fair comparison\n",
    "common_max = float(np.nanmax(np.abs(np.concatenate([m21, f21]))))\n",
    "pad = common_max * 1.3\n",
    "\n",
    "# Left (Male): 2010 reference (lighter)\n",
    "axL.barh(y, df[\"male_2010\"].fillna(0), height=0.6, color=\"steelblue\", alpha=0.3, label=\"Male 2010\")\n",
    "# Then 2021 on top\n",
    "axL.barh(y, m21, height=0.4, color=\"steelblue\", label=\"Male 2021\")\n",
    "\n",
    "\n",
    "axL.set_xlim(pad, 0)                # reversed so bars grow left\n",
    "axL.set_yticks(y)\n",
    "axL.set_yticklabels([])\n",
    "axL.yaxis.tick_right()              # ticks/axis on the right side\n",
    "axL.axvline(0, color=\"black\", lw=0.8)\n",
    "\n",
    "# Right (Female): 2010 reference (lighter)\n",
    "axR.barh(y, df[\"female_2010\"].fillna(0), height=0.6, color=\"indianred\", alpha=0.3, label=\"Female 2010\")\n",
    "# Then 2021 on top\n",
    "axR.barh(y, f21, height=0.4, color=\"indianred\", label=\"Female 2021\")\n",
    "\n",
    "axR.set_xlim(0, pad)\n",
    "axR.set_yticks(y)\n",
    "axR.set_yticklabels([])\n",
    "axR.axvline(0, color=\"black\", lw=0.8)\n",
    "\n",
    "# Add numbers to end of Male 2021 bars (left plot)\n",
    "for yi, val in enumerate(m21):\n",
    "    axL.text(val + pad * 0.04, yi, f\"{val:.1f}\", va=\"center\", ha=\"right\", color=\"darkblue\", fontsize=9)\n",
    "# Male 2010 (left plot, under 2021)\n",
    "for yi, val in enumerate(df[\"male_2010\"].fillna(0)):\n",
    "    axL.text(\n",
    "        m21[yi] + pad * 0.04,  # x position: same as 2021 label\n",
    "        yi - 0.35,             # y position: slightly below the 2021 label\n",
    "        f\"{val:.1f}\",\n",
    "        va=\"center\", ha=\"right\", color=\"gray\", fontsize=8, alpha=0.7\n",
    "    )\n",
    "\n",
    "# Add numbers to end of Female 2021 bars (right plot)\n",
    "for yi, val in enumerate(f21):\n",
    "    axR.text(val + pad * 0.04, yi, f\"{val:.1f}\", va=\"center\", ha=\"left\", color=\"red\", fontsize=9)\n",
    "# Female 2010 (right plot, under 2021)\n",
    "for yi, val in enumerate(df[\"female_2010\"].fillna(0)):\n",
    "    axR.text(\n",
    "        f21[yi] + pad * 0.04,  # x position: same as 2021 label\n",
    "        yi - 0.35,             # y position: slightly below the 2021 label\n",
    "        f\"{val:.1f}\",\n",
    "        va=\"center\", ha=\"left\", color=\"gray\", fontsize=8, alpha=0.7\n",
    "    )\n",
    "\n",
    "# --- Disease labels OUTSIDE the bars with numbering ---\n",
    "# Add numbering to the causes\n",
    "n = len(causes)\n",
    "for yi, cause in enumerate(causes):\n",
    "    # Flip the numbering: top row = 1, bottom row = n\n",
    "    label = f\"{yi+1}. {cause}\"           # still counts up\n",
    "    flipped_label = f\"{n-yi}. {cause}\"   # counts down (top=1)\n",
    "    \n",
    "    axR.text(1.03, yi, flipped_label, va=\"center\", ha=\"left\",\n",
    "             transform=axR.get_yaxis_transform(), fontsize=9)\n",
    "\n",
    "# Titles (optional)\n",
    "axL.legend(loc=\"lower left\", frameon=False)\n",
    "axR.legend(loc=\"lower right\", frameon=False)\n",
    "fig.text(0.5, 0.06, \"ASMR (Age-Standardized Mortality Rate)\", ha=\"center\", va=\"center\")\n",
    "fig.suptitle(\"Male v. Female Cause-Specific ASMR (2010 & 2021)\",\n",
    "             fontsize=14, weight=\"bold\", y=0.92, x=0.6)\n",
    "\n",
    "# Make room for outside labels so they don't get clipped\n",
    "fig.subplots_adjust(left=0.30, right=0.70)  # tweak if needed\n",
    "\n",
    "plt.show()"
   ]
  },
  {
   "cell_type": "markdown",
   "id": "9c476d51",
   "metadata": {},
   "source": [
    "### Life Expectancy Reduction based on top 10 causes of mortality."
   ]
  },
  {
   "cell_type": "code",
   "execution_count": 80,
   "id": "ee1aa7a9",
   "metadata": {},
   "outputs": [
    {
     "name": "stdout",
     "output_type": "stream",
     "text": [
      " * sqlite:///database/gbd.sqlite\n",
      "Done.\n"
     ]
    },
    {
     "data": {
      "text/html": [
       "<table>\n",
       "    <thead>\n",
       "        <tr>\n",
       "            <th>Location Name</th>\n",
       "            <th>Start Year</th>\n",
       "            <th>End Year</th>\n",
       "            <th>Start Year LE</th>\n",
       "            <th>End Year LE</th>\n",
       "            <th>COVID-19</th>\n",
       "            <th>Chronic respiratory diseases</th>\n",
       "            <th>Diabetes and kidney diseases</th>\n",
       "            <th>Digestive diseases</th>\n",
       "            <th>Enteric infections</th>\n",
       "            <th>HIV/AIDS</th>\n",
       "            <th>Ischemic heart disease</th>\n",
       "            <th>Lower respiratory infections</th>\n",
       "            <th>Malaria</th>\n",
       "            <th>Measles</th>\n",
       "            <th>Neonatal disorders</th>\n",
       "            <th>Neoplasms</th>\n",
       "            <th>Nutritional deficiencies</th>\n",
       "            <th>Other COVID-19 pandemic-related outcomes</th>\n",
       "            <th>Other Communicable and maternal disorders</th>\n",
       "            <th>Other NCD</th>\n",
       "            <th>Self-harm and interpersonal violence (except of war and terrorism)</th>\n",
       "            <th>Stroke</th>\n",
       "            <th>Transport injuries</th>\n",
       "            <th>Tuberculosis</th>\n",
       "            <th>Unintentional injuries (except of natural disaster)</th>\n",
       "            <th>Natural disaster; war and terrorism</th>\n",
       "        </tr>\n",
       "    </thead>\n",
       "    <tbody>\n",
       "        <tr>\n",
       "            <td>Global</td>\n",
       "            <td>1990</td>\n",
       "            <td>2021</td>\n",
       "            <td>65.5</td>\n",
       "            <td>71.7</td>\n",
       "            <td>-1.6</td>\n",
       "            <td>0.46</td>\n",
       "            <td>-0.05</td>\n",
       "            <td>0.3</td>\n",
       "            <td>1.13</td>\n",
       "            <td>0.01</td>\n",
       "            <td>0.61</td>\n",
       "            <td>0.92</td>\n",
       "            <td>0.07</td>\n",
       "            <td>0.34</td>\n",
       "            <td>0.56</td>\n",
       "            <td>0.6</td>\n",
       "            <td>0.22</td>\n",
       "            <td>-0.6</td>\n",
       "            <td>0.62</td>\n",
       "            <td>0.52</td>\n",
       "            <td>0.19</td>\n",
       "            <td>0.78</td>\n",
       "            <td>0.21</td>\n",
       "            <td>0.52</td>\n",
       "            <td>0.41</td>\n",
       "            <td>0.05</td>\n",
       "        </tr>\n",
       "        <tr>\n",
       "            <td>Global</td>\n",
       "            <td>1990</td>\n",
       "            <td>2000</td>\n",
       "            <td>65.5</td>\n",
       "            <td>67.2</td>\n",
       "            <td>0.0</td>\n",
       "            <td>0.12</td>\n",
       "            <td>-0.02</td>\n",
       "            <td>0.07</td>\n",
       "            <td>0.38</td>\n",
       "            <td>-0.36</td>\n",
       "            <td>0.14</td>\n",
       "            <td>0.27</td>\n",
       "            <td>-0.05</td>\n",
       "            <td>0.08</td>\n",
       "            <td>0.11</td>\n",
       "            <td>0.14</td>\n",
       "            <td>0.04</td>\n",
       "            <td>0.0</td>\n",
       "            <td>0.18</td>\n",
       "            <td>0.15</td>\n",
       "            <td>0.0</td>\n",
       "            <td>0.16</td>\n",
       "            <td>0.04</td>\n",
       "            <td>0.13</td>\n",
       "            <td>0.11</td>\n",
       "            <td>0.03</td>\n",
       "        </tr>\n",
       "    </tbody>\n",
       "</table>"
      ],
      "text/plain": [
       "[('Global', 1990, 2021, 65.5, 71.7, -1.6, 0.46, -0.05, 0.3, 1.13, 0.01, 0.61, 0.92, 0.07, 0.34, 0.56, 0.6, 0.22, -0.6, 0.62, 0.52, 0.19, 0.78, 0.21, 0.52, 0.41, 0.05),\n",
       " ('Global', 1990, 2000, 65.5, 67.2, 0.0, 0.12, -0.02, 0.07, 0.38, -0.36, 0.14, 0.27, -0.05, 0.08, 0.11, 0.14, 0.04, 0.0, 0.18, 0.15, 0.0, 0.16, 0.04, 0.13, 0.11, 0.03)]"
      ]
     },
     "execution_count": 80,
     "metadata": {},
     "output_type": "execute_result"
    }
   ],
   "source": [
    "%sql select * from LE_Decomp_both_sexes limit 2"
   ]
  },
  {
   "cell_type": "code",
   "execution_count": 17,
   "id": "871ad465",
   "metadata": {},
   "outputs": [
    {
     "name": "stdout",
     "output_type": "stream",
     "text": [
      " * sqlite:///database/gbd.sqlite\n",
      "Done.\n"
     ]
    },
    {
     "data": {
      "text/html": [
       "<table>\n",
       "    <thead>\n",
       "        <tr>\n",
       "            <th>Location Name</th>\n",
       "        </tr>\n",
       "    </thead>\n",
       "    <tbody>\n",
       "        <tr>\n",
       "            <td>United Kingdom</td>\n",
       "        </tr>\n",
       "        <tr>\n",
       "            <td>United States of America</td>\n",
       "        </tr>\n",
       "        <tr>\n",
       "            <td>United Arab Emirates</td>\n",
       "        </tr>\n",
       "        <tr>\n",
       "            <td>United Republic of Tanzania</td>\n",
       "        </tr>\n",
       "    </tbody>\n",
       "</table>"
      ],
      "text/plain": [
       "[('United Kingdom',),\n",
       " ('United States of America',),\n",
       " ('United Arab Emirates',),\n",
       " ('United Republic of Tanzania',)]"
      ]
     },
     "execution_count": 17,
     "metadata": {},
     "output_type": "execute_result"
    }
   ],
   "source": [
    "%sql select distinct [Location Name] from LE_Decomp_both_sexes where [Location Name] like '%United%';"
   ]
  },
  {
   "cell_type": "code",
   "execution_count": 18,
   "id": "ff80e5a5",
   "metadata": {},
   "outputs": [
    {
     "name": "stdout",
     "output_type": "stream",
     "text": [
      " * sqlite:///database/gbd.sqlite\n",
      "Done.\n",
      "Returning data to local variable LE_US\n"
     ]
    }
   ],
   "source": [
    "%%sql LE_US <<\n",
    "select * from LE_Decomp_both_sexes where [Location Name] = 'United States of America' and ([Start Year] = 2010 or [Start Year] = 2019);"
   ]
  },
  {
   "cell_type": "code",
   "execution_count": 19,
   "id": "d6a0be14",
   "metadata": {},
   "outputs": [
    {
     "name": "stdout",
     "output_type": "stream",
     "text": [
      "| Location Name            |   Start Year |   End Year |   Start Year LE |   End Year LE |   COVID-19 |   Chronic respiratory diseases |   Diabetes and kidney diseases |   Digestive diseases |   Enteric infections |   HIV/AIDS |   Ischemic heart disease |   Lower respiratory infections |   Malaria |   Measles |   Neonatal disorders |   Neoplasms |   Nutritional deficiencies |   Other COVID-19 pandemic-related outcomes |   Other Communicable and maternal disorders |   Other NCD |   Self-harm and interpersonal violence (except of war and terrorism) |   Stroke |   Transport injuries |   Tuberculosis |   Unintentional injuries (except of natural disaster) |   Natural disaster; war and terrorism |\n",
      "|:-------------------------|-------------:|-----------:|----------------:|--------------:|-----------:|-------------------------------:|-------------------------------:|---------------------:|---------------------:|-----------:|-------------------------:|-------------------------------:|----------:|----------:|---------------------:|------------:|---------------------------:|-------------------------------------------:|--------------------------------------------:|------------:|---------------------------------------------------------------------:|---------:|---------------------:|---------------:|------------------------------------------------------:|--------------------------------------:|\n",
      "| United States of America |         2010 |       2019 |            78.8 |          79.1 |       0    |                           0.04 |                          -0.08 |                 0    |                 0.01 |       0.03 |                     0.31 |                           0.02 |         0 |         0 |                 0.02 |        0.41 |                      -0.02 |                                       0    |                                           0 |       -0.33 |                                                                -0.05 |     0.02 |                -0.01 |              0 |                                                 -0.03 |                                     0 |\n",
      "| United States of America |         2019 |       2021 |            79.1 |          77.1 |      -1.92 |                           0    |                           0    |                 0.01 |                 0    |       0    |                     0    |                           0.05 |         0 |         0 |                 0.03 |        0.01 |                       0    |                                      -0.24 |                                           0 |        0.01 |                                                                 0.02 |     0    |                 0.02 |              0 |                                                  0.01 |                                     0 |\n"
     ]
    }
   ],
   "source": [
    "df = LE_US.DataFrame()\n",
    "print(df.to_markdown(index=False))"
   ]
  },
  {
   "cell_type": "markdown",
   "id": "bbb765a3",
   "metadata": {},
   "source": [
    "## Maybe: (Years of Life Lost) - YLLs"
   ]
  },
  {
   "cell_type": "code",
   "execution_count": 20,
   "id": "95d78a40",
   "metadata": {},
   "outputs": [
    {
     "name": "stdout",
     "output_type": "stream",
     "text": [
      " * sqlite:///database/gbd.sqlite\n",
      "Done.\n"
     ]
    },
    {
     "data": {
      "text/html": [
       "<table>\n",
       "    <thead>\n",
       "        <tr>\n",
       "            <th>location_type</th>\n",
       "            <th>location_name</th>\n",
       "            <th>cause_name</th>\n",
       "            <th>1990 (Age-Standardised Rate - YLLs)</th>\n",
       "            <th>2010 (Age-Standardised Rate - YLLs)</th>\n",
       "            <th>2019 (Age-Standardised Rate - YLLs)</th>\n",
       "            <th>2020 (Age-Standardised Rate - YLLs)</th>\n",
       "            <th>2021 (Age-Standardised Rate - YLLs)</th>\n",
       "            <th>1990 (All-Age YLLs)</th>\n",
       "            <th>2010 (All-Age YLLs)</th>\n",
       "            <th>2019 (All-Age YLLs)</th>\n",
       "            <th>2020 (All-Age YLLs)</th>\n",
       "            <th>2021 (All-Age YLLs)</th>\n",
       "        </tr>\n",
       "    </thead>\n",
       "    <tbody>\n",
       "        <tr>\n",
       "            <td>Global</td>\n",
       "            <td>Global</td>\n",
       "            <td>Acute glomerulonephritis</td>\n",
       "            <td>11.21 (8.58-13.95)</td>\n",
       "            <td>5.21 (3.36-6.22)</td>\n",
       "            <td>4.19 (2.75-5.32)</td>\n",
       "            <td>3.98 (2.61-5.06)</td>\n",
       "            <td>3.82 (2.51-4.90)</td>\n",
       "            <td>566129.3 (428806.2-700629.1)</td>\n",
       "            <td>351870.1 (227494.9-420442.7)</td>\n",
       "            <td>330429.8 (216373.7-419298.3)</td>\n",
       "            <td>319135.4 (209883.0-407038.7)</td>\n",
       "            <td>310915.4 (205966.7-400268.3)</td>\n",
       "        </tr>\n",
       "        <tr>\n",
       "            <td>Global</td>\n",
       "            <td>Global</td>\n",
       "            <td>Acute hepatitis A</td>\n",
       "            <td>108.55 (89.88-129.37)</td>\n",
       "            <td>63.64 (50.31-80.39)</td>\n",
       "            <td>26.92 (18.02-42.69)</td>\n",
       "            <td>24.05 (15.77-39.07)</td>\n",
       "            <td>21.97 (13.99-36.19)</td>\n",
       "            <td>6198849.2 (5121067.7-7335562.8)</td>\n",
       "            <td>4288796.0 (3399108.7-5429527.0)</td>\n",
       "            <td>1935701.4 (1303579.8-3040889.1)</td>\n",
       "            <td>1737574.3 (1146647.4-2781845.4)</td>\n",
       "            <td>1591183.2 (1032103.5-2596108.4)</td>\n",
       "        </tr>\n",
       "    </tbody>\n",
       "</table>"
      ],
      "text/plain": [
       "[('Global', 'Global', 'Acute glomerulonephritis', '11.21 (8.58-13.95)', '5.21 (3.36-6.22)', '4.19 (2.75-5.32)', '3.98 (2.61-5.06)', '3.82 (2.51-4.90)', '566129.3 (428806.2-700629.1)', '351870.1 (227494.9-420442.7)', '330429.8 (216373.7-419298.3)', '319135.4 (209883.0-407038.7)', '310915.4 (205966.7-400268.3)'),\n",
       " ('Global', 'Global', 'Acute hepatitis A', '108.55 (89.88-129.37)', '63.64 (50.31-80.39)', '26.92 (18.02-42.69)', '24.05 (15.77-39.07)', '21.97 (13.99-36.19)', '6198849.2 (5121067.7-7335562.8)', '4288796.0 (3399108.7-5429527.0)', '1935701.4 (1303579.8-3040889.1)', '1737574.3 (1146647.4-2781845.4)', '1591183.2 (1032103.5-2596108.4)')]"
      ]
     },
     "execution_count": 20,
     "metadata": {},
     "output_type": "execute_result"
    }
   ],
   "source": [
    "%sql select * from YLL_location_cause_both_sexes limit 2"
   ]
  },
  {
   "cell_type": "code",
   "execution_count": 21,
   "id": "3cf4d4bf",
   "metadata": {},
   "outputs": [
    {
     "name": "stdout",
     "output_type": "stream",
     "text": [
      " * sqlite:///database/gbd.sqlite\n",
      "Done.\n"
     ]
    },
    {
     "data": {
      "text/html": [
       "<table>\n",
       "    <thead>\n",
       "        <tr>\n",
       "            <th>location_name</th>\n",
       "        </tr>\n",
       "    </thead>\n",
       "    <tbody>\n",
       "        <tr>\n",
       "            <td>United States of America</td>\n",
       "        </tr>\n",
       "        <tr>\n",
       "            <td>United Kingdom</td>\n",
       "        </tr>\n",
       "        <tr>\n",
       "            <td>United States Virgin Islands</td>\n",
       "        </tr>\n",
       "        <tr>\n",
       "            <td>United Arab Emirates</td>\n",
       "        </tr>\n",
       "        <tr>\n",
       "            <td>United Republic of Tanzania</td>\n",
       "        </tr>\n",
       "    </tbody>\n",
       "</table>"
      ],
      "text/plain": [
       "[('United States of America',),\n",
       " ('United Kingdom',),\n",
       " ('United States Virgin Islands',),\n",
       " ('United Arab Emirates',),\n",
       " ('United Republic of Tanzania',)]"
      ]
     },
     "execution_count": 21,
     "metadata": {},
     "output_type": "execute_result"
    }
   ],
   "source": [
    "%sql select distinct location_name from YLL_location_cause_both_sexes where location_name like '%United%';"
   ]
  },
  {
   "cell_type": "code",
   "execution_count": 22,
   "id": "470eca9c",
   "metadata": {},
   "outputs": [
    {
     "name": "stdout",
     "output_type": "stream",
     "text": [
      " * sqlite:///database/gbd.sqlite\n",
      "Done.\n"
     ]
    },
    {
     "data": {
      "text/html": [
       "<table>\n",
       "    <thead>\n",
       "        <tr>\n",
       "            <th>location_name</th>\n",
       "            <th>cause_name</th>\n",
       "        </tr>\n",
       "    </thead>\n",
       "    <tbody>\n",
       "        <tr>\n",
       "            <td>United States of America</td>\n",
       "            <td>Chronic obstructive pulmonary disease</td>\n",
       "        </tr>\n",
       "    </tbody>\n",
       "</table>"
      ],
      "text/plain": [
       "[('United States of America', 'Chronic obstructive pulmonary disease')]"
      ]
     },
     "execution_count": 22,
     "metadata": {},
     "output_type": "execute_result"
    }
   ],
   "source": [
    "%sql select location_name, cause_name from YLL_location_cause_both_sexes where location_name = 'United States of America' and cause_name \"like '%Chronic obstructive pulmonary disease%'\""
   ]
  },
  {
   "cell_type": "code",
   "execution_count": 23,
   "id": "d4cdfb7d",
   "metadata": {},
   "outputs": [],
   "source": [
    "location = ['United States of America']\n",
    "diseases = [\n",
    "    \"Ischemic heart disease\",\n",
    "    \"Ischemic stroke\",\n",
    "    \"Hypertensive heart disease\",\n",
    "    \"Intracerebral hemorrhage\",\n",
    "    \"COVID-19\",\n",
    "    \"Other COVID-19 pandemic-related outcomes\",\n",
    "    \"Lower respiratory infections\",\n",
    "    \"dementia\",\n",
    "    \"Chronic obstructive pulmonary disease\",\n",
    "    \"Tracheal, bronchus, and lung cancer\",\n",
    "    \"Colon and rectum cancer\",\n",
    "    \"Prostate cancer\",\n",
    "    \"Breast cancer\",\n",
    "    \"Diabetes mellitus type 2\",\n",
    "    \"Chronic kidney disease due to glomerulonephritis\",\n",
    "    \"Chronic kidney disease due to diabetes mellitus type 2\",\n",
    "    \"Chronic kidney disease due to other and unspecified causes\",\n",
    "    \"Opioid use disorders\",\n",
    "    \"Physical violence by firearm\"\n",
    "]"
   ]
  },
  {
   "cell_type": "code",
   "execution_count": 24,
   "id": "26ca50a4",
   "metadata": {},
   "outputs": [
    {
     "name": "stdout",
     "output_type": "stream",
     "text": [
      " * sqlite:///database/gbd.sqlite\n",
      "Done.\n",
      "| location_name            | cause_name             | 2010 (Age-Standardised Rate - YLLs)   | 2021 (Age-Standardised Rate - YLLs)   | 2010 (All-Age YLLs)             | 2021 (All-Age YLLs)             |\n",
      "|:-------------------------|:-----------------------|:--------------------------------------|:--------------------------------------|:--------------------------------|:--------------------------------|\n",
      "| United States of America | Ischemic heart disease | 1748.70 (1615.75-1813.47)             | 1489.59 (1375.69-1555.73)             | 8016850.2 (7326438.9-8353224.0) | 8529036.5 (7800011.7-8941669.1) |\n",
      " * sqlite:///database/gbd.sqlite\n",
      "Done.\n",
      "| location_name            | cause_name      | 2010 (Age-Standardised Rate - YLLs)   | 2021 (Age-Standardised Rate - YLLs)   | 2010 (All-Age YLLs)            | 2021 (All-Age YLLs)             |\n",
      "|:-------------------------|:----------------|:--------------------------------------|:--------------------------------------|:-------------------------------|:--------------------------------|\n",
      "| United States of America | Ischemic stroke | 215.56 (184.19-231.31)                | 231.19 (199.80-248.27)                | 1082047.9 (914693.8-1167597.3) | 1466656.5 (1250827.2-1582356.5) |\n",
      " * sqlite:///database/gbd.sqlite\n",
      "Done.\n",
      "| location_name            | cause_name                 | 2010 (Age-Standardised Rate - YLLs)   | 2021 (Age-Standardised Rate - YLLs)   | 2010 (All-Age YLLs)          | 2021 (All-Age YLLs)             |\n",
      "|:-------------------------|:---------------------------|:--------------------------------------|:--------------------------------------|:-----------------------------|:--------------------------------|\n",
      "| United States of America | Hypertensive heart disease | 208.01 (196.37-214.21)                | 244.89 (220.05-269.74)                | 906563.8 (845942.4-937504.3) | 1292198.1 (1150279.1-1430773.9) |\n",
      " * sqlite:///database/gbd.sqlite\n",
      "Done.\n",
      "| location_name            | cause_name               | 2010 (Age-Standardised Rate - YLLs)   | 2021 (Age-Standardised Rate - YLLs)   | 2010 (All-Age YLLs)            | 2021 (All-Age YLLs)             |\n",
      "|:-------------------------|:-------------------------|:--------------------------------------|:--------------------------------------|:-------------------------------|:--------------------------------|\n",
      "| United States of America | Intracerebral hemorrhage | 234.99 (221.28-243.57)                | 210.09 (196.19-220.27)                | 1028031.1 (959408.6-1068850.1) | 1145736.6 (1058507.9-1203160.4) |\n",
      " * sqlite:///database/gbd.sqlite\n",
      "Done.\n",
      "| location_name            | cause_name                               | 2010 (Age-Standardised Rate - YLLs)   | 2021 (Age-Standardised Rate - YLLs)   | 2010 (All-Age YLLs)   | 2021 (All-Age YLLs)                |\n",
      "|:-------------------------|:-----------------------------------------|:--------------------------------------|:--------------------------------------|:----------------------|:-----------------------------------|\n",
      "| United States of America | COVID-19                                 | 0.00 (0.00-0.00)                      | 2254.69 (2209.34-2301.50)             | 0.0 (0.0-0.0)         | 10728179.2 (10514594.1-10947546.0) |\n",
      "| United States of America | Other COVID-19 pandemic-related outcomes | 0.00 (0.00-0.00)                      | 295.71 (201.16-399.92)                | 0.0 (0.0-0.0)         | 1344641.2 (913266.1-1796112.9)     |\n",
      " * sqlite:///database/gbd.sqlite\n",
      "Done.\n",
      "| location_name            | cause_name                               | 2010 (Age-Standardised Rate - YLLs)   | 2021 (Age-Standardised Rate - YLLs)   | 2010 (All-Age YLLs)   | 2021 (All-Age YLLs)            |\n",
      "|:-------------------------|:-----------------------------------------|:--------------------------------------|:--------------------------------------|:----------------------|:-------------------------------|\n",
      "| United States of America | Other COVID-19 pandemic-related outcomes | 0.00 (0.00-0.00)                      | 295.71 (201.16-399.92)                | 0.0 (0.0-0.0)         | 1344641.2 (913266.1-1796112.9) |\n",
      " * sqlite:///database/gbd.sqlite\n",
      "Done.\n",
      "| location_name            | cause_name                   | 2010 (Age-Standardised Rate - YLLs)   | 2021 (Age-Standardised Rate - YLLs)   | 2010 (All-Age YLLs)            | 2021 (All-Age YLLs)           |\n",
      "|:-------------------------|:-----------------------------|:--------------------------------------|:--------------------------------------|:-------------------------------|:------------------------------|\n",
      "| United States of America | Lower respiratory infections | 249.91 (231.18-259.68)                | 186.84 (172.05-197.66)                | 1038994.2 (942202.7-1089935.1) | 952479.5 (859654.9-1015428.3) |\n",
      " * sqlite:///database/gbd.sqlite\n",
      "Done.\n",
      "| location_name            | cause_name                              | 2010 (Age-Standardised Rate - YLLs)   | 2021 (Age-Standardised Rate - YLLs)   | 2010 (All-Age YLLs)            | 2021 (All-Age YLLs)            |\n",
      "|:-------------------------|:----------------------------------------|:--------------------------------------|:--------------------------------------|:-------------------------------|:-------------------------------|\n",
      "| United States of America | Alzheimer's disease and other dementias | 359.81 (90.90-928.73)                 | 356.17 (90.09-912.58)                 | 1847416.5 (466450.5-4736423.8) | 2344030.4 (594648.7-5992541.2) |\n",
      " * sqlite:///database/gbd.sqlite\n",
      "Done.\n",
      "| location_name            | cause_name                            | 2010 (Age-Standardised Rate - YLLs)   | 2021 (Age-Standardised Rate - YLLs)   | 2010 (All-Age YLLs)             | 2021 (All-Age YLLs)             |\n",
      "|:-------------------------|:--------------------------------------|:--------------------------------------|:--------------------------------------|:--------------------------------|:--------------------------------|\n",
      "| United States of America | Chronic obstructive pulmonary disease | 583.79 (535.32-606.72)                | 551.42 (503.63-575.88)                | 2690832.1 (2451891.5-2807272.5) | 3342893.7 (3032731.2-3500188.2) |\n",
      " * sqlite:///database/gbd.sqlite\n",
      "Done.\n",
      "| location_name            | cause_name                          | 2010 (Age-Standardised Rate - YLLs)   | 2021 (Age-Standardised Rate - YLLs)   | 2010 (All-Age YLLs)             | 2021 (All-Age YLLs)             |\n",
      "|:-------------------------|:------------------------------------|:--------------------------------------|:--------------------------------------|:--------------------------------|:--------------------------------|\n",
      "| United States of America | Tracheal, bronchus, and lung cancer | 864.86 (819.87-891.74)                | 620.33 (583.81-646.11)                | 3823614.3 (3610197.4-3948014.5) | 3590279.0 (3358656.2-3744333.9) |\n",
      " * sqlite:///database/gbd.sqlite\n",
      "Done.\n",
      "| location_name            | cause_name              | 2010 (Age-Standardised Rate - YLLs)   | 2021 (Age-Standardised Rate - YLLs)   | 2010 (All-Age YLLs)             | 2021 (All-Age YLLs)             |\n",
      "|:-------------------------|:------------------------|:--------------------------------------|:--------------------------------------|:--------------------------------|:--------------------------------|\n",
      "| United States of America | Colon and rectum cancer | 327.08 (308.40-339.01)                | 294.72 (277.84-306.77)                | 1436571.3 (1346741.0-1492807.5) | 1577371.3 (1476145.3-1647316.5) |\n",
      " * sqlite:///database/gbd.sqlite\n",
      "Done.\n",
      "| location_name            | cause_name      | 2010 (Age-Standardised Rate - YLLs)   | 2021 (Age-Standardised Rate - YLLs)   | 2010 (All-Age YLLs)          | 2021 (All-Age YLLs)          |\n",
      "|:-------------------------|:----------------|:--------------------------------------|:--------------------------------------|:-----------------------------|:-----------------------------|\n",
      "| United States of America | Prostate cancer | 123.15 (114.66-127.72)                | 114.10 (105.39-119.80)                | 577888.8 (534445.9-600848.8) | 705513.7 (647686.6-741476.0) |\n",
      " * sqlite:///database/gbd.sqlite\n",
      "Done.\n",
      "| location_name            | cause_name    | 2010 (Age-Standardised Rate - YLLs)   | 2021 (Age-Standardised Rate - YLLs)   | 2010 (All-Age YLLs)             | 2021 (All-Age YLLs)             |\n",
      "|:-------------------------|:--------------|:--------------------------------------|:--------------------------------------|:--------------------------------|:--------------------------------|\n",
      "| United States of America | Breast cancer | 275.71 (260.97-284.50)                | 238.59 (225.02-248.84)                | 1178488.2 (1107445.5-1219563.6) | 1218273.0 (1136493.4-1273985.1) |\n",
      " * sqlite:///database/gbd.sqlite\n",
      "Done.\n",
      "| location_name            | cause_name                                             | 2010 (Age-Standardised Rate - YLLs)   | 2021 (Age-Standardised Rate - YLLs)   | 2010 (All-Age YLLs)             | 2021 (All-Age YLLs)             |\n",
      "|:-------------------------|:-------------------------------------------------------|:--------------------------------------|:--------------------------------------|:--------------------------------|:--------------------------------|\n",
      "| United States of America | Chronic kidney disease due to diabetes mellitus type 2 | 96.25 (79.63-113.59)                  | 160.13 (142.95-175.60)                | 442523.2 (365883.1-524246.6)    | 953073.7 (847291.4-1050676.9)   |\n",
      "| United States of America | Diabetes mellitus type 2                               | 297.85 (280.11-308.92)                | 258.89 (243.65-270.20)                | 1332339.5 (1242931.4-1386105.3) | 1432014.9 (1338349.5-1499140.6) |\n",
      " * sqlite:///database/gbd.sqlite\n",
      "Done.\n",
      "| location_name            | cause_name                                       | 2010 (Age-Standardised Rate - YLLs)   | 2021 (Age-Standardised Rate - YLLs)   | 2010 (All-Age YLLs)          | 2021 (All-Age YLLs)          |\n",
      "|:-------------------------|:-------------------------------------------------|:--------------------------------------|:--------------------------------------|:-----------------------------|:-----------------------------|\n",
      "| United States of America | Chronic kidney disease due to glomerulonephritis | 49.52 (41.19-58.98)                   | 66.64 (60.61-73.04)                   | 192010.8 (155467.5-231272.6) | 316917.6 (283895.5-352230.2) |\n",
      " * sqlite:///database/gbd.sqlite\n",
      "Done.\n",
      "| location_name            | cause_name                                             | 2010 (Age-Standardised Rate - YLLs)   | 2021 (Age-Standardised Rate - YLLs)   | 2010 (All-Age YLLs)          | 2021 (All-Age YLLs)           |\n",
      "|:-------------------------|:-------------------------------------------------------|:--------------------------------------|:--------------------------------------|:-----------------------------|:------------------------------|\n",
      "| United States of America | Chronic kidney disease due to diabetes mellitus type 2 | 96.25 (79.63-113.59)                  | 160.13 (142.95-175.60)                | 442523.2 (365883.1-524246.6) | 953073.7 (847291.4-1050676.9) |\n",
      " * sqlite:///database/gbd.sqlite\n",
      "Done.\n",
      "| location_name            | cause_name                                                 | 2010 (Age-Standardised Rate - YLLs)   | 2021 (Age-Standardised Rate - YLLs)   | 2010 (All-Age YLLs)          | 2021 (All-Age YLLs)          |\n",
      "|:-------------------------|:-----------------------------------------------------------|:--------------------------------------|:--------------------------------------|:-----------------------------|:-----------------------------|\n",
      "| United States of America | Chronic kidney disease due to other and unspecified causes | 44.00 (30.39-59.65)                   | 32.76 (29.40-36.19)                   | 179124.9 (117128.1-251056.3) | 149289.5 (131293.1-168178.4) |\n",
      " * sqlite:///database/gbd.sqlite\n",
      "Done.\n",
      "| location_name            | cause_name           | 2010 (Age-Standardised Rate - YLLs)   | 2021 (Age-Standardised Rate - YLLs)   | 2010 (All-Age YLLs)             | 2021 (All-Age YLLs)             |\n",
      "|:-------------------------|:---------------------|:--------------------------------------|:--------------------------------------|:--------------------------------|:--------------------------------|\n",
      "| United States of America | Opioid use disorders | 363.48 (347.24-381.49)                | 771.51 (687.87-862.41)                | 1181289.0 (1128237.8-1239064.1) | 2629560.8 (2334086.1-2953650.9) |\n",
      " * sqlite:///database/gbd.sqlite\n",
      "Done.\n",
      "| location_name            | cause_name                   | 2010 (Age-Standardised Rate - YLLs)   | 2021 (Age-Standardised Rate - YLLs)   | 2010 (All-Age YLLs)          | 2021 (All-Age YLLs)          |\n",
      "|:-------------------------|:-----------------------------|:--------------------------------------|:--------------------------------------|:-----------------------------|:-----------------------------|\n",
      "| United States of America | Physical violence by firearm | 243.57 (239.92-247.42)                | 264.90 (255.19-274.05)                | 708115.7 (697525.6-719069.5) | 804357.0 (775349.4-832220.1) |\n"
     ]
    }
   ],
   "source": [
    "def automate_query(location, diseases):\n",
    "        for disease in diseases:\n",
    "            for loc in location:\n",
    "                    query = f\"\"\"\n",
    "                            select location_name, cause_name, [2010 (Age-Standardised Rate - YLLs)], [2021 (Age-Standardised Rate - YLLs)], [2010 (All-Age YLLs)], [2021 (All-Age YLLs)] \n",
    "                            from YLL_location_cause_both_sexes \n",
    "                            where location_name = '{loc}' and cause_name like '%{disease}%'\"\"\"\n",
    "                    result = %sql {query}\n",
    "                    if result is not None:\n",
    "                            df = result.DataFrame()\n",
    "                            print(df.to_markdown(index=False))\n",
    "                    else:\n",
    "                            print(f\"No results for location: {loc}, disease: {disease}\")\n",
    "\n",
    "automate_query(location, diseases)"
   ]
  },
  {
   "cell_type": "markdown",
   "id": "a8a3cecf",
   "metadata": {},
   "source": [
    "## Check to see where top 10 diseases are localize."
   ]
  },
  {
   "cell_type": "code",
   "execution_count": 25,
   "id": "7e409076",
   "metadata": {},
   "outputs": [
    {
     "name": "stdout",
     "output_type": "stream",
     "text": [
      " * sqlite:///database/gbd.sqlite\n",
      "Done.\n"
     ]
    },
    {
     "data": {
      "text/html": [
       "<table>\n",
       "    <thead>\n",
       "        <tr>\n",
       "            <th>Cause Level</th>\n",
       "            <th>Cause Name</th>\n",
       "            <th>Cause Mean</th>\n",
       "            <th>Cause Std. Dev.</th>\n",
       "            <th>Coefficient of Variation</th>\n",
       "            <th>Gini Coefficient</th>\n",
       "            <th>Total Locations</th>\n",
       "            <th>Total Deaths</th>\n",
       "            <th>Locations Accounting for 90% of Deaths</th>\n",
       "            <th>Percent of Total Locations</th>\n",
       "            <th>Total Population</th>\n",
       "            <th>Affected Population</th>\n",
       "            <th>Percent of Total Population</th>\n",
       "        </tr>\n",
       "    </thead>\n",
       "    <tbody>\n",
       "        <tr>\n",
       "            <td>3</td>\n",
       "            <td>African trypanosomiasis</td>\n",
       "            <td>0.06</td>\n",
       "            <td>0.37</td>\n",
       "            <td>6.52</td>\n",
       "            <td>0.67</td>\n",
       "            <td>983</td>\n",
       "            <td>1,056</td>\n",
       "            <td>7</td>\n",
       "            <td>0.71</td>\n",
       "            <td>7,891,353,301</td>\n",
       "            <td>182,324,765</td>\n",
       "            <td>2.31</td>\n",
       "        </tr>\n",
       "        <tr>\n",
       "            <td>3</td>\n",
       "            <td>Chagas disease</td>\n",
       "            <td>0.07</td>\n",
       "            <td>0.45</td>\n",
       "            <td>6.66</td>\n",
       "            <td>0.76</td>\n",
       "            <td>983</td>\n",
       "            <td>7,715</td>\n",
       "            <td>16</td>\n",
       "            <td>1.63</td>\n",
       "            <td>7,891,353,301</td>\n",
       "            <td>296,260,655</td>\n",
       "            <td>3.75</td>\n",
       "        </tr>\n",
       "    </tbody>\n",
       "</table>"
      ],
      "text/plain": [
       "[(3, 'African trypanosomiasis', 0.06, 0.37, 6.52, 0.67, 983, '1,056', 7, 0.71, '7,891,353,301', '182,324,765', 2.31),\n",
       " (3, 'Chagas disease', 0.07, 0.45, 6.66, 0.76, 983, '7,715', 16, 1.63, '7,891,353,301', '296,260,655', 3.75)]"
      ]
     },
     "execution_count": 25,
     "metadata": {},
     "output_type": "execute_result"
    }
   ],
   "source": [
    "%sql select * from death_cv_2021 limit 2"
   ]
  },
  {
   "cell_type": "code",
   "execution_count": 26,
   "id": "a17319b1",
   "metadata": {},
   "outputs": [
    {
     "name": "stdout",
     "output_type": "stream",
     "text": [
      " * sqlite:///database/gbd.sqlite\n",
      "Done.\n"
     ]
    },
    {
     "data": {
      "text/html": [
       "<table>\n",
       "    <thead>\n",
       "        <tr>\n",
       "            <th>Cause Level</th>\n",
       "            <th>Cause Name</th>\n",
       "            <th>Cause Mean</th>\n",
       "            <th>Cause Std. Dev.</th>\n",
       "            <th>Coefficient of Variation</th>\n",
       "            <th>Gini Coefficient</th>\n",
       "            <th>Total Locations</th>\n",
       "            <th>Total Deaths</th>\n",
       "            <th>Locations Accounting for 90% of Deaths</th>\n",
       "            <th>Percent of Total Locations</th>\n",
       "            <th>Total Population</th>\n",
       "            <th>Affected Population</th>\n",
       "            <th>Percent of Total Population</th>\n",
       "        </tr>\n",
       "    </thead>\n",
       "    <tbody>\n",
       "        <tr>\n",
       "            <td>4</td>\n",
       "            <td>Chronic kidney disease due to diabetes mellitus type 2</td>\n",
       "            <td>9.46</td>\n",
       "            <td>8.92</td>\n",
       "            <td>0.94</td>\n",
       "            <td>0.47</td>\n",
       "            <td>983</td>\n",
       "            <td>476,789</td>\n",
       "            <td>282</td>\n",
       "            <td>28.69</td>\n",
       "            <td>7,891,353,301</td>\n",
       "            <td>6,489,978,190</td>\n",
       "            <td>82.24</td>\n",
       "        </tr>\n",
       "        <tr>\n",
       "            <td>4</td>\n",
       "            <td>Diabetes mellitus type 2</td>\n",
       "            <td>40.08</td>\n",
       "            <td>36.31</td>\n",
       "            <td>0.91</td>\n",
       "            <td>0.45</td>\n",
       "            <td>983</td>\n",
       "            <td>1,606,110</td>\n",
       "            <td>321</td>\n",
       "            <td>32.66</td>\n",
       "            <td>7,891,353,301</td>\n",
       "            <td>6,894,880,567</td>\n",
       "            <td>87.37</td>\n",
       "        </tr>\n",
       "    </tbody>\n",
       "</table>"
      ],
      "text/plain": [
       "[(4, 'Chronic kidney disease due to diabetes mellitus type 2', 9.46, 8.92, 0.94, 0.47, 983, '476,789', 282, 28.69, '7,891,353,301', '6,489,978,190', 82.24),\n",
       " (4, 'Diabetes mellitus type 2', 40.08, 36.31, 0.91, 0.45, 983, '1,606,110', 321, 32.66, '7,891,353,301', '6,894,880,567', 87.37)]"
      ]
     },
     "execution_count": 26,
     "metadata": {},
     "output_type": "execute_result"
    }
   ],
   "source": [
    "%sql select * from death_cv_2021 where [Cause Name] like '%Diabetes mellitus type 2%';"
   ]
  },
  {
   "cell_type": "code",
   "execution_count": 27,
   "id": "e04b6d7e",
   "metadata": {},
   "outputs": [],
   "source": [
    "location = ['United States of America']\n",
    "diseases = [\n",
    "    \"Ischemic heart disease\",\n",
    "    \"Ischemic stroke\",\n",
    "    \"Hypertensive heart disease\",\n",
    "    \"Intracerebral hemorrhage\",\n",
    "    \"COVID-19\",\n",
    "    \"Other COVID-19 pandemic-related outcomes\",\n",
    "    \"Lower respiratory infections\",\n",
    "    \"dementia\",\n",
    "    \"Chronic obstructive pulmonary disease\",\n",
    "    \"Tracheal, bronchus, and lung cancer\",\n",
    "    \"Colon and rectum cancer\",\n",
    "    \"Prostate cancer\",\n",
    "    \"Breast cancer\",\n",
    "    \"Diabetes mellitus type 2\",\n",
    "    \"Chronic kidney disease due to glomerulonephritis\",\n",
    "    \"Chronic kidney disease due to diabetes mellitus type 2\",\n",
    "    \"Chronic kidney disease due to other and unspecified causes\",\n",
    "    \"Opioid use disorders\",\n",
    "    \"Physical violence by firearm\"\n",
    "]"
   ]
  },
  {
   "cell_type": "code",
   "execution_count": 28,
   "id": "8cc8b4ba",
   "metadata": {},
   "outputs": [
    {
     "name": "stdout",
     "output_type": "stream",
     "text": [
      " * sqlite:///database/gbd.sqlite\n",
      "Done.\n",
      "|   Cause Level | Cause Name             |   Cause Mean |   Cause Std. Dev. |   Coefficient of Variation |   Gini Coefficient |   Total Locations | Total Deaths   |   Locations Accounting for 90% of Deaths |   Percent of Total Locations | Total Population   | Affected Population   |   Percent of Total Population |\n",
      "|--------------:|:-----------------------|-------------:|------------------:|---------------------------:|-------------------:|------------------:|:---------------|-----------------------------------------:|-----------------------------:|:-------------------|:----------------------|------------------------------:|\n",
      "|             3 | Ischemic heart disease |       129.58 |             79.22 |                       0.61 |               0.32 |               983 | 8,980,181      |                                      310 |                        31.54 | 7,891,353,301      | 6,627,535,484         |                         83.98 |\n",
      " * sqlite:///database/gbd.sqlite\n",
      "Done.\n",
      "|   Cause Level | Cause Name      |   Cause Mean |   Cause Std. Dev. |   Coefficient of Variation |   Gini Coefficient |   Total Locations | Total Deaths   |   Locations Accounting for 90% of Deaths |   Percent of Total Locations | Total Population   | Affected Population   |   Percent of Total Population |\n",
      "|--------------:|:----------------|-------------:|------------------:|---------------------------:|-------------------:|------------------:|:---------------|-----------------------------------------:|-----------------------------:|:-------------------|:----------------------|------------------------------:|\n",
      "|             4 | Ischemic stroke |        52.08 |             30.66 |                       0.59 |               0.32 |               983 | 3,586,974      |                                      299 |                        30.42 | 7,891,353,301      | 6,576,068,278         |                         83.33 |\n",
      " * sqlite:///database/gbd.sqlite\n",
      "Done.\n",
      "|   Cause Level | Cause Name                 |   Cause Mean |   Cause Std. Dev. |   Coefficient of Variation |   Gini Coefficient |   Total Locations | Total Deaths   |   Locations Accounting for 90% of Deaths |   Percent of Total Locations | Total Population   | Affected Population   |   Percent of Total Population |\n",
      "|--------------:|:---------------------------|-------------:|------------------:|---------------------------:|-------------------:|------------------:|:---------------|-----------------------------------------:|-----------------------------:|:-------------------|:----------------------|------------------------------:|\n",
      "|             3 | Hypertensive heart disease |        27.46 |             20.02 |                       0.73 |                0.4 |               983 | 1,330,517      |                                      291 |                         29.6 | 7,891,353,301      | 6,707,131,897         |                         84.99 |\n",
      " * sqlite:///database/gbd.sqlite\n",
      "Done.\n",
      "|   Cause Level | Cause Name               |   Cause Mean |   Cause Std. Dev. |   Coefficient of Variation |   Gini Coefficient |   Total Locations | Total Deaths   |   Locations Accounting for 90% of Deaths |   Percent of Total Locations | Total Population   | Affected Population   |   Percent of Total Population |\n",
      "|--------------:|:-------------------------|-------------:|------------------:|---------------------------:|-------------------:|------------------:|:---------------|-----------------------------------------:|-----------------------------:|:-------------------|:----------------------|------------------------------:|\n",
      "|             4 | Intracerebral hemorrhage |         46.3 |              37.2 |                        0.8 |               0.44 |               983 | 3,305,228      |                                      230 |                         23.4 | 7,891,353,301      | 6,386,086,816         |                         80.93 |\n",
      " * sqlite:///database/gbd.sqlite\n",
      "Done.\n",
      "|   Cause Level | Cause Name   |   Cause Mean |   Cause Std. Dev. |   Coefficient of Variation |   Gini Coefficient |   Total Locations | Total Deaths   |   Locations Accounting for 90% of Deaths |   Percent of Total Locations | Total Population   | Affected Population   |   Percent of Total Population |\n",
      "|--------------:|:-------------|-------------:|------------------:|---------------------------:|-------------------:|------------------:|:---------------|-----------------------------------------:|-----------------------------:|:-------------------|:----------------------|------------------------------:|\n",
      "|             3 | COVID-19     |        81.31 |             73.25 |                        0.9 |               0.46 |               983 | 7,877,956      |                                      341 |                        34.69 | 7,891,353,301      | 5,570,845,941         |                         70.59 |\n",
      " * sqlite:///database/gbd.sqlite\n",
      "Done.\n",
      "\n",
      " * sqlite:///database/gbd.sqlite\n",
      "Done.\n",
      "|   Cause Level | Cause Name                   |   Cause Mean |   Cause Std. Dev. |   Coefficient of Variation |   Gini Coefficient |   Total Locations | Total Deaths   |   Locations Accounting for 90% of Deaths |   Percent of Total Locations | Total Population   | Affected Population   |   Percent of Total Population |\n",
      "|--------------:|:-----------------------------|-------------:|------------------:|---------------------------:|-------------------:|------------------:|:---------------|-----------------------------------------:|-----------------------------:|:-------------------|:----------------------|------------------------------:|\n",
      "|             3 | Lower respiratory infections |        44.21 |             36.35 |                       0.82 |               0.44 |               983 | 2,180,441      |                                      323 |                        32.86 | 7,891,353,301      | 6,914,648,566         |                         87.62 |\n",
      " * sqlite:///database/gbd.sqlite\n",
      "Done.\n",
      "|   Cause Level | Cause Name                              |   Cause Mean |   Cause Std. Dev. |   Coefficient of Variation |   Gini Coefficient |   Total Locations | Total Deaths   |   Locations Accounting for 90% of Deaths |   Percent of Total Locations | Total Population   | Affected Population   |   Percent of Total Population |\n",
      "|--------------:|:----------------------------------------|-------------:|------------------:|---------------------------:|-------------------:|------------------:|:---------------|-----------------------------------------:|-----------------------------:|:-------------------|:----------------------|------------------------------:|\n",
      "|             3 | Alzheimer's disease and other dementias |        22.42 |              4.36 |                       0.19 |               0.11 |               983 | 1,954,266      |                                      294 |                        29.91 | 7,891,353,301      | 6,254,952,001         |                         79.26 |\n",
      " * sqlite:///database/gbd.sqlite\n",
      "Done.\n",
      "|   Cause Level | Cause Name                            |   Cause Mean |   Cause Std. Dev. |   Coefficient of Variation |   Gini Coefficient |   Total Locations | Total Deaths   |   Locations Accounting for 90% of Deaths |   Percent of Total Locations | Total Population   | Affected Population   |   Percent of Total Population |\n",
      "|--------------:|:--------------------------------------|-------------:|------------------:|---------------------------:|-------------------:|------------------:|:---------------|-----------------------------------------:|-----------------------------:|:-------------------|:----------------------|------------------------------:|\n",
      "|             3 | Chronic obstructive pulmonary disease |         30.2 |             23.38 |                       0.77 |               0.37 |               983 | 3,717,720      |                                      194 |                        19.74 | 7,891,353,301      | 5,869,384,595         |                         74.38 |\n",
      " * sqlite:///database/gbd.sqlite\n",
      "Done.\n",
      "|   Cause Level | Cause Name                          |   Cause Mean |   Cause Std. Dev. |   Coefficient of Variation |   Gini Coefficient |   Total Locations | Total Deaths   |   Locations Accounting for 90% of Deaths |   Percent of Total Locations | Total Population   | Affected Population   |   Percent of Total Population |\n",
      "|--------------:|:------------------------------------|-------------:|------------------:|---------------------------:|-------------------:|------------------:|:---------------|-----------------------------------------:|-----------------------------:|:-------------------|:----------------------|------------------------------:|\n",
      "|             3 | Tracheal, bronchus, and lung cancer |        18.17 |             11.06 |                       0.61 |               0.33 |               983 | 2,014,110      |                                      258 |                        26.25 | 7,891,353,301      | 5,820,722,436         |                         73.76 |\n",
      " * sqlite:///database/gbd.sqlite\n",
      "Done.\n",
      "|   Cause Level | Cause Name              |   Cause Mean |   Cause Std. Dev. |   Coefficient of Variation |   Gini Coefficient |   Total Locations | Total Deaths   |   Locations Accounting for 90% of Deaths |   Percent of Total Locations | Total Population   | Affected Population   |   Percent of Total Population |\n",
      "|--------------:|:------------------------|-------------:|------------------:|---------------------------:|-------------------:|------------------:|:---------------|-----------------------------------------:|-----------------------------:|:-------------------|:----------------------|------------------------------:|\n",
      "|             3 | Colon and rectum cancer |        12.23 |              5.27 |                       0.43 |               0.24 |               983 | 1,042,659      |                                      320 |                        32.55 | 7,891,353,301      | 6,464,369,765         |                         81.92 |\n",
      " * sqlite:///database/gbd.sqlite\n",
      "Done.\n",
      "|   Cause Level | Cause Name      |   Cause Mean |   Cause Std. Dev. |   Coefficient of Variation |   Gini Coefficient |   Total Locations | Total Deaths   |   Locations Accounting for 90% of Deaths |   Percent of Total Locations | Total Population   | Affected Population   |   Percent of Total Population |\n",
      "|--------------:|:----------------|-------------:|------------------:|---------------------------:|-------------------:|------------------:|:---------------|-----------------------------------------:|-----------------------------:|:-------------------|:----------------------|------------------------------:|\n",
      "|             3 | Prostate cancer |        10.31 |              6.64 |                       0.64 |               0.34 |               983 | 431,700        |                                      396 |                        40.28 | 7,891,353,301      | 7,070,268,339         |                          89.6 |\n",
      " * sqlite:///database/gbd.sqlite\n",
      "Done.\n",
      "|   Cause Level | Cause Name    |   Cause Mean |   Cause Std. Dev. |   Coefficient of Variation |   Gini Coefficient |   Total Locations | Total Deaths   |   Locations Accounting for 90% of Deaths |   Percent of Total Locations | Total Population   | Affected Population   |   Percent of Total Population |\n",
      "|--------------:|:--------------|-------------:|------------------:|---------------------------:|-------------------:|------------------:|:---------------|-----------------------------------------:|-----------------------------:|:-------------------|:----------------------|------------------------------:|\n",
      "|             3 | Breast cancer |        10.47 |              4.14 |                        0.4 |               0.22 |               983 | 673,359        |                                      369 |                        37.54 | 7,891,353,301      | 7,087,309,653         |                         89.81 |\n",
      " * sqlite:///database/gbd.sqlite\n",
      "Done.\n",
      "|   Cause Level | Cause Name                                             |   Cause Mean |   Cause Std. Dev. |   Coefficient of Variation |   Gini Coefficient |   Total Locations | Total Deaths   |   Locations Accounting for 90% of Deaths |   Percent of Total Locations | Total Population   | Affected Population   |   Percent of Total Population |\n",
      "|--------------:|:-------------------------------------------------------|-------------:|------------------:|---------------------------:|-------------------:|------------------:|:---------------|-----------------------------------------:|-----------------------------:|:-------------------|:----------------------|------------------------------:|\n",
      "|             4 | Chronic kidney disease due to diabetes mellitus type 2 |         9.46 |              8.92 |                       0.94 |               0.47 |               983 | 476,789        |                                      282 |                        28.69 | 7,891,353,301      | 6,489,978,190         |                         82.24 |\n",
      "|             4 | Diabetes mellitus type 2                               |        40.08 |             36.31 |                       0.91 |               0.45 |               983 | 1,606,110      |                                      321 |                        32.66 | 7,891,353,301      | 6,894,880,567         |                         87.37 |\n",
      " * sqlite:///database/gbd.sqlite\n",
      "Done.\n",
      "|   Cause Level | Cause Name                                       |   Cause Mean |   Cause Std. Dev. |   Coefficient of Variation |   Gini Coefficient |   Total Locations | Total Deaths   |   Locations Accounting for 90% of Deaths |   Percent of Total Locations | Total Population   | Affected Population   |   Percent of Total Population |\n",
      "|--------------:|:-------------------------------------------------|-------------:|------------------:|---------------------------:|-------------------:|------------------:|:---------------|-----------------------------------------:|-----------------------------:|:-------------------|:----------------------|------------------------------:|\n",
      "|             4 | Chronic kidney disease due to glomerulonephritis |         4.32 |              4.17 |                       0.97 |               0.49 |               983 | 193,856        |                                      322 |                        32.76 | 7,891,353,301      | 6,686,409,691         |                         84.73 |\n",
      " * sqlite:///database/gbd.sqlite\n",
      "Done.\n",
      "|   Cause Level | Cause Name                                             |   Cause Mean |   Cause Std. Dev. |   Coefficient of Variation |   Gini Coefficient |   Total Locations | Total Deaths   |   Locations Accounting for 90% of Deaths |   Percent of Total Locations | Total Population   | Affected Population   |   Percent of Total Population |\n",
      "|--------------:|:-------------------------------------------------------|-------------:|------------------:|---------------------------:|-------------------:|------------------:|:---------------|-----------------------------------------:|-----------------------------:|:-------------------|:----------------------|------------------------------:|\n",
      "|             4 | Chronic kidney disease due to diabetes mellitus type 2 |         9.46 |              8.92 |                       0.94 |               0.47 |               983 | 476,789        |                                      282 |                        28.69 | 7,891,353,301      | 6,489,978,190         |                         82.24 |\n",
      " * sqlite:///database/gbd.sqlite\n",
      "Done.\n",
      "|   Cause Level | Cause Name                                                 |   Cause Mean |   Cause Std. Dev. |   Coefficient of Variation |   Gini Coefficient |   Total Locations | Total Deaths   |   Locations Accounting for 90% of Deaths |   Percent of Total Locations | Total Population   | Affected Population   |   Percent of Total Population |\n",
      "|--------------:|:-----------------------------------------------------------|-------------:|------------------:|---------------------------:|-------------------:|------------------:|:---------------|-----------------------------------------:|-----------------------------:|:-------------------|:----------------------|------------------------------:|\n",
      "|             4 | Chronic kidney disease due to other and unspecified causes |         5.69 |              4.77 |                       0.84 |               0.44 |               983 | 307,690        |                                      289 |                         29.4 | 7,891,353,301      | 5,969,976,988         |                         75.65 |\n",
      " * sqlite:///database/gbd.sqlite\n",
      "Done.\n",
      "|   Cause Level | Cause Name           |   Cause Mean |   Cause Std. Dev. |   Coefficient of Variation |   Gini Coefficient |   Total Locations | Total Deaths   |   Locations Accounting for 90% of Deaths |   Percent of Total Locations | Total Population   | Affected Population   |   Percent of Total Population |\n",
      "|--------------:|:---------------------|-------------:|------------------:|---------------------------:|-------------------:|------------------:|:---------------|-----------------------------------------:|-----------------------------:|:-------------------|:----------------------|------------------------------:|\n",
      "|             4 | Opioid use disorders |         0.69 |              1.32 |                       1.91 |               0.65 |               983 | 99,530         |                                      180 |                        18.31 | 7,891,353,301      | 4,961,933,320         |                         62.88 |\n",
      " * sqlite:///database/gbd.sqlite\n",
      "Done.\n",
      "|   Cause Level | Cause Name                   |   Cause Mean |   Cause Std. Dev. |   Coefficient of Variation |   Gini Coefficient |   Total Locations | Total Deaths   |   Locations Accounting for 90% of Deaths |   Percent of Total Locations | Total Population   | Affected Population   |   Percent of Total Population |\n",
      "|--------------:|:-----------------------------|-------------:|------------------:|---------------------------:|-------------------:|------------------:|:---------------|-----------------------------------------:|-----------------------------:|:-------------------|:----------------------|------------------------------:|\n",
      "|             4 | Physical violence by firearm |         2.92 |              6.36 |                       2.18 |               0.76 |               983 | 171,740        |                                      179 |                        18.21 | 7,891,353,301      | 3,124,720,048         |                          39.6 |\n"
     ]
    }
   ],
   "source": [
    "def automate_query(location, diseases):\n",
    "        for disease in diseases:\n",
    "                query = f\"\"\"select * from death_cv_2021 where [Cause Name] like '%{disease}%'\"\"\"\n",
    "                result = %sql {query}\n",
    "                if result is not None:\n",
    "                        df = result.DataFrame()\n",
    "                        print(df.to_markdown(index=False))\n",
    "                else:\n",
    "                        print(f\"No results for disease: {disease}\")\n",
    "\n",
    "automate_query(location, diseases)"
   ]
  }
 ],
 "metadata": {
  "kernelspec": {
   "display_name": "Python 3",
   "language": "python",
   "name": "python3"
  },
  "language_info": {
   "codemirror_mode": {
    "name": "ipython",
    "version": 3
   },
   "file_extension": ".py",
   "mimetype": "text/x-python",
   "name": "python",
   "nbconvert_exporter": "python",
   "pygments_lexer": "ipython3",
   "version": "3.13.7"
  }
 },
 "nbformat": 4,
 "nbformat_minor": 5
}
